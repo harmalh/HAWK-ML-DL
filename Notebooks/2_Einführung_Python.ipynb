{
 "cells": [
  {
   "cell_type": "markdown",
   "id": "fdebd871",
   "metadata": {
    "id": "fdebd871"
   },
   "source": [
    "# Sitzung 2: Einführung in Python"
   ]
  },
  {
   "cell_type": "markdown",
   "id": "f735d866",
   "metadata": {
    "id": "f735d866"
   },
   "source": [
    "In dieser ersten Sitzung möchten wir Sie vertraut machen mit dem Aufbau von Python. Hierzu verwenden wir Jupyter Notebook, welches durch Google Colab in der Cloud gehostet wird. Sie können die Jupyter Notebooks der einzelnen Sitzungen auch sehr gerne herunterladen, wenn Sie sich keinen Google Account zulegen möchten. Alternativ werden wir versuchen, Ihnen die Dateien mitsamt Datensatz über StudIP bereitzustellen. In dem Fall empfehlen wir Ihnen, wie auf den Folien beschrieben, die Benutzung von Anaconda.\n",
    "\n",
    "Quelle der Sitzung: Mayer, Python one-liners."
   ]
  },
  {
   "cell_type": "markdown",
   "id": "JQHrBd6D9H-m",
   "metadata": {
    "id": "JQHrBd6D9H-m"
   },
   "source": [
    "Wichtig:\n",
    "- der Code in einer Zeile wird mir SHIFT + ENTER ausgeführt.\n",
    "- Das #-Zeichen am Anfang führt dazu, dass der folgende Code in einen \"Kommentar\" verwandelt wird. Dies bedeutet, dass Jupyter Notebook den Code nicht länger ausführt.\n",
    "- Die Zahl hinter In und Out [ZAHL] steht für die Position des Codes während der Sitzung. Ein Jupyter Notebook läuft NICHT notwendigerweise von oben nach unten ab."
   ]
  },
  {
   "cell_type": "markdown",
   "id": "5577efd9",
   "metadata": {
    "id": "5577efd9"
   },
   "source": [
    "### Einfache mathematische Rechnungen"
   ]
  },
  {
   "cell_type": "markdown",
   "id": "k0pc4B_swzmm",
   "metadata": {
    "id": "k0pc4B_swzmm"
   },
   "source": [
    "WICHTIG:\n",
    "1. Sie führen Code mit Hilfe von Shift-Enter aus\n",
    "2. Jede Ausführung wird mit einer Zahl davor gekennzeichnet. Dies ermöglicht die Nachverfolgbarkeit bei der Ausführung von Code.\n"
   ]
  },
  {
   "cell_type": "code",
   "execution_count": 1,
   "id": "cd8560f4",
   "metadata": {
    "colab": {
     "base_uri": "https://localhost:8080/"
    },
    "id": "cd8560f4",
    "outputId": "caedcbf3-6029-408e-93f8-24fd51e6bf51"
   },
   "outputs": [
    {
     "data": {
      "text/plain": [
       "1"
      ]
     },
     "execution_count": 1,
     "metadata": {},
     "output_type": "execute_result"
    }
   ],
   "source": [
    "1"
   ]
  },
  {
   "cell_type": "code",
   "execution_count": 2,
   "id": "a4fddcc7",
   "metadata": {
    "colab": {
     "base_uri": "https://localhost:8080/"
    },
    "id": "a4fddcc7",
    "outputId": "92edccae-6956-4511-f3af-9daa7a28ee66"
   },
   "outputs": [
    {
     "data": {
      "text/plain": [
       "3"
      ]
     },
     "execution_count": 2,
     "metadata": {},
     "output_type": "execute_result"
    }
   ],
   "source": [
    "1+2"
   ]
  },
  {
   "cell_type": "code",
   "execution_count": 1,
   "id": "wXwA0FwAg4Sh",
   "metadata": {
    "colab": {
     "base_uri": "https://localhost:8080/"
    },
    "id": "wXwA0FwAg4Sh",
    "outputId": "bfa33be9-a99a-43fb-ca6b-d6a01aaefe65"
   },
   "outputs": [
    {
     "data": {
      "text/plain": [
       "178"
      ]
     },
     "execution_count": 1,
     "metadata": {},
     "output_type": "execute_result"
    }
   ],
   "source": [
    "100 + 78"
   ]
  },
  {
   "cell_type": "code",
   "execution_count": 2,
   "id": "abed24df",
   "metadata": {
    "id": "abed24df"
   },
   "outputs": [],
   "source": [
    "a = 3"
   ]
  },
  {
   "cell_type": "code",
   "execution_count": 3,
   "id": "pyTurRWzACpG",
   "metadata": {
    "colab": {
     "base_uri": "https://localhost:8080/"
    },
    "id": "pyTurRWzACpG",
    "outputId": "9ac80c4e-d7c0-4418-a34e-a69fc6aa40e8"
   },
   "outputs": [
    {
     "data": {
      "text/plain": [
       "3"
      ]
     },
     "execution_count": 3,
     "metadata": {},
     "output_type": "execute_result"
    }
   ],
   "source": [
    "a"
   ]
  },
  {
   "cell_type": "code",
   "execution_count": 4,
   "id": "yEbNeAt4AHJF",
   "metadata": {
    "colab": {
     "base_uri": "https://localhost:8080/"
    },
    "id": "yEbNeAt4AHJF",
    "outputId": "5f6c3170-6e1a-46e7-d68d-6da08735438f"
   },
   "outputs": [
    {
     "data": {
      "text/plain": [
       "9"
      ]
     },
     "execution_count": 4,
     "metadata": {},
     "output_type": "execute_result"
    }
   ],
   "source": [
    "a*a"
   ]
  },
  {
   "cell_type": "code",
   "execution_count": 5,
   "id": "79b72f4b",
   "metadata": {
    "id": "79b72f4b"
   },
   "outputs": [],
   "source": [
    "b = 2"
   ]
  },
  {
   "cell_type": "code",
   "execution_count": 6,
   "id": "e94dd87f",
   "metadata": {
    "colab": {
     "base_uri": "https://localhost:8080/"
    },
    "id": "e94dd87f",
    "outputId": "1fe771b8-3e87-45bb-97ba-087ca10aec4d"
   },
   "outputs": [
    {
     "data": {
      "text/plain": [
       "5"
      ]
     },
     "execution_count": 6,
     "metadata": {},
     "output_type": "execute_result"
    }
   ],
   "source": [
    "a+b"
   ]
  },
  {
   "cell_type": "code",
   "execution_count": 7,
   "id": "c4b84b5c",
   "metadata": {
    "colab": {
     "base_uri": "https://localhost:8080/"
    },
    "id": "c4b84b5c",
    "outputId": "705c7e16-2bb3-4382-8507-3eeb01ca222c"
   },
   "outputs": [
    {
     "data": {
      "text/plain": [
       "6"
      ]
     },
     "execution_count": 7,
     "metadata": {},
     "output_type": "execute_result"
    }
   ],
   "source": [
    "a*b"
   ]
  },
  {
   "cell_type": "code",
   "execution_count": 8,
   "id": "71c831b5",
   "metadata": {
    "colab": {
     "base_uri": "https://localhost:8080/"
    },
    "id": "71c831b5",
    "outputId": "62a033eb-8132-45ae-854b-bc737e647407"
   },
   "outputs": [
    {
     "data": {
      "text/plain": [
       "1.5"
      ]
     },
     "execution_count": 8,
     "metadata": {},
     "output_type": "execute_result"
    }
   ],
   "source": [
    "a/b"
   ]
  },
  {
   "cell_type": "code",
   "execution_count": 9,
   "id": "535491d8",
   "metadata": {
    "colab": {
     "base_uri": "https://localhost:8080/"
    },
    "id": "535491d8",
    "outputId": "fd7514f8-897f-4b19-a3b9-2d724f60839d"
   },
   "outputs": [
    {
     "data": {
      "text/plain": [
       "1"
      ]
     },
     "execution_count": 9,
     "metadata": {},
     "output_type": "execute_result"
    }
   ],
   "source": [
    "a-b"
   ]
  },
  {
   "cell_type": "code",
   "execution_count": 10,
   "id": "434a71f8",
   "metadata": {
    "colab": {
     "base_uri": "https://localhost:8080/"
    },
    "id": "434a71f8",
    "outputId": "4bdccac1-f3e4-40a0-dd55-9e63d7806836"
   },
   "outputs": [
    {
     "data": {
      "text/plain": [
       "27"
      ]
     },
     "execution_count": 10,
     "metadata": {},
     "output_type": "execute_result"
    }
   ],
   "source": [
    "a ** 3 # 3*3*3"
   ]
  },
  {
   "cell_type": "code",
   "execution_count": 11,
   "id": "da277ebd",
   "metadata": {
    "id": "da277ebd"
   },
   "outputs": [],
   "source": [
    "e = 5"
   ]
  },
  {
   "cell_type": "code",
   "execution_count": 12,
   "id": "5e8cb38a",
   "metadata": {
    "colab": {
     "base_uri": "https://localhost:8080/"
    },
    "id": "5e8cb38a",
    "outputId": "52445da9-bb5b-482a-89fa-016545e8d7d7"
   },
   "outputs": [
    {
     "data": {
      "text/plain": [
       "2"
      ]
     },
     "execution_count": 12,
     "metadata": {},
     "output_type": "execute_result"
    }
   ],
   "source": [
    "e - 3"
   ]
  },
  {
   "cell_type": "code",
   "execution_count": 13,
   "id": "fa053851",
   "metadata": {
    "colab": {
     "base_uri": "https://localhost:8080/"
    },
    "id": "fa053851",
    "outputId": "3df9b4d2-e29f-4f73-a59e-d6ea5f9e9034"
   },
   "outputs": [
    {
     "data": {
      "text/plain": [
       "0"
      ]
     },
     "execution_count": 13,
     "metadata": {},
     "output_type": "execute_result"
    }
   ],
   "source": [
    "e - 5"
   ]
  },
  {
   "cell_type": "markdown",
   "id": "78688182",
   "metadata": {
    "id": "78688182"
   },
   "source": [
    "### Arbeiten mit Text / Strings"
   ]
  },
  {
   "cell_type": "code",
   "execution_count": 14,
   "id": "afd75d61",
   "metadata": {
    "id": "afd75d61"
   },
   "outputs": [],
   "source": [
    "c = \"Hallo\""
   ]
  },
  {
   "cell_type": "code",
   "execution_count": 17,
   "id": "ebcc7c90-1e90-41ed-864a-03e0578ebca9",
   "metadata": {
    "tags": []
   },
   "outputs": [],
   "source": [
    "Hallo = \"Hallo\""
   ]
  },
  {
   "cell_type": "code",
   "execution_count": 15,
   "id": "NMdTixCcBFxv",
   "metadata": {
    "colab": {
     "base_uri": "https://localhost:8080/",
     "height": 35
    },
    "id": "NMdTixCcBFxv",
    "outputId": "36447e63-587b-4fe2-abee-f00a4e925b3f"
   },
   "outputs": [
    {
     "data": {
      "text/plain": [
       "'Hallo'"
      ]
     },
     "execution_count": 15,
     "metadata": {},
     "output_type": "execute_result"
    }
   ],
   "source": [
    "c"
   ]
  },
  {
   "cell_type": "code",
   "execution_count": 18,
   "id": "d80073be-bbb7-4f20-a576-554e2e70d799",
   "metadata": {
    "tags": []
   },
   "outputs": [
    {
     "data": {
      "text/plain": [
       "'Hallo'"
      ]
     },
     "execution_count": 18,
     "metadata": {},
     "output_type": "execute_result"
    }
   ],
   "source": [
    "Hallo"
   ]
  },
  {
   "cell_type": "code",
   "execution_count": 19,
   "id": "017f81ed",
   "metadata": {
    "id": "017f81ed"
   },
   "outputs": [],
   "source": [
    "d = \"Studierende\""
   ]
  },
  {
   "cell_type": "code",
   "execution_count": 20,
   "id": "a5dbaf64",
   "metadata": {
    "colab": {
     "base_uri": "https://localhost:8080/",
     "height": 35
    },
    "id": "a5dbaf64",
    "outputId": "adb50167-7a0e-4f76-b4e7-f333f7588f97"
   },
   "outputs": [
    {
     "data": {
      "text/plain": [
       "'Hallo'"
      ]
     },
     "execution_count": 20,
     "metadata": {},
     "output_type": "execute_result"
    }
   ],
   "source": [
    "c"
   ]
  },
  {
   "cell_type": "code",
   "execution_count": 21,
   "id": "fa3cbe3d",
   "metadata": {
    "colab": {
     "base_uri": "https://localhost:8080/",
     "height": 35
    },
    "id": "fa3cbe3d",
    "outputId": "d92af204-f27c-4fe7-f795-25ef15f764e5"
   },
   "outputs": [
    {
     "data": {
      "text/plain": [
       "'Studierende'"
      ]
     },
     "execution_count": 21,
     "metadata": {},
     "output_type": "execute_result"
    }
   ],
   "source": [
    "d"
   ]
  },
  {
   "cell_type": "code",
   "execution_count": 22,
   "id": "3372be67",
   "metadata": {
    "colab": {
     "base_uri": "https://localhost:8080/",
     "height": 35
    },
    "id": "3372be67",
    "outputId": "1c9291ee-f743-49eb-a188-fb3ff1ed9628"
   },
   "outputs": [
    {
     "data": {
      "text/plain": [
       "'HalloStudierende'"
      ]
     },
     "execution_count": 22,
     "metadata": {},
     "output_type": "execute_result"
    }
   ],
   "source": [
    "c+d"
   ]
  },
  {
   "cell_type": "code",
   "execution_count": 23,
   "id": "38888602",
   "metadata": {
    "colab": {
     "base_uri": "https://localhost:8080/",
     "height": 35
    },
    "id": "38888602",
    "outputId": "8455c14c-4bca-41bc-d82b-8983467e775c"
   },
   "outputs": [
    {
     "data": {
      "text/plain": [
       "'Hallo Studierende'"
      ]
     },
     "execution_count": 23,
     "metadata": {},
     "output_type": "execute_result"
    }
   ],
   "source": [
    "c + \" \" + d"
   ]
  },
  {
   "cell_type": "code",
   "execution_count": 24,
   "id": "410acfba",
   "metadata": {
    "colab": {
     "base_uri": "https://localhost:8080/",
     "height": 35
    },
    "id": "410acfba",
    "outputId": "ea7fffad-a03b-4cf7-fd38-f6d9eea3296e"
   },
   "outputs": [
    {
     "data": {
      "text/plain": [
       "'HALLO'"
      ]
     },
     "execution_count": 24,
     "metadata": {},
     "output_type": "execute_result"
    }
   ],
   "source": [
    "c.upper()"
   ]
  },
  {
   "cell_type": "code",
   "execution_count": 25,
   "id": "3f069439",
   "metadata": {
    "colab": {
     "base_uri": "https://localhost:8080/",
     "height": 35
    },
    "id": "3f069439",
    "outputId": "e605d373-9bec-4cf2-d765-96abeeae9c60"
   },
   "outputs": [
    {
     "data": {
      "text/plain": [
       "'hallo'"
      ]
     },
     "execution_count": 25,
     "metadata": {},
     "output_type": "execute_result"
    }
   ],
   "source": [
    "c.lower()"
   ]
  },
  {
   "cell_type": "code",
   "execution_count": 26,
   "id": "0533473e-a669-403d-a485-a8fc1a288633",
   "metadata": {
    "tags": []
   },
   "outputs": [
    {
     "data": {
      "text/plain": [
       "'Studierende'"
      ]
     },
     "execution_count": 26,
     "metadata": {},
     "output_type": "execute_result"
    }
   ],
   "source": [
    "d"
   ]
  },
  {
   "cell_type": "code",
   "execution_count": 25,
   "id": "c5b62ed1",
   "metadata": {
    "colab": {
     "base_uri": "https://localhost:8080/"
    },
    "id": "c5b62ed1",
    "outputId": "a274d1a0-04f3-451b-e91d-e86c7cc1ee35"
   },
   "outputs": [
    {
     "data": {
      "text/plain": [
       "3"
      ]
     },
     "execution_count": 25,
     "metadata": {},
     "output_type": "execute_result"
    }
   ],
   "source": [
    "d.count('e')"
   ]
  },
  {
   "cell_type": "markdown",
   "id": "df1f7a2b",
   "metadata": {
    "id": "df1f7a2b"
   },
   "source": [
    "### Arbeiten mit Listen"
   ]
  },
  {
   "cell_type": "markdown",
   "id": "679fc757",
   "metadata": {
    "id": "679fc757"
   },
   "source": [
    "Listen werden wir in späteren Sitzungen noch sehr viel benötigen. Um eine Liste zu erstellen verwenden Sie eckige Klammern [ ]."
   ]
  },
  {
   "cell_type": "code",
   "execution_count": 27,
   "id": "8a786bb5",
   "metadata": {
    "id": "8a786bb5"
   },
   "outputs": [],
   "source": [
    "list = [1,2,3]"
   ]
  },
  {
   "cell_type": "code",
   "execution_count": 28,
   "id": "ze_r6NCWCVZq",
   "metadata": {
    "colab": {
     "base_uri": "https://localhost:8080/"
    },
    "id": "ze_r6NCWCVZq",
    "outputId": "51907660-755c-4921-9c8e-fc4f66a741bb"
   },
   "outputs": [
    {
     "data": {
      "text/plain": [
       "[1, 2, 3]"
      ]
     },
     "execution_count": 28,
     "metadata": {},
     "output_type": "execute_result"
    }
   ],
   "source": [
    "list"
   ]
  },
  {
   "cell_type": "code",
   "execution_count": 29,
   "id": "72ea811f",
   "metadata": {
    "colab": {
     "base_uri": "https://localhost:8080/"
    },
    "id": "72ea811f",
    "outputId": "22efc058-665d-431c-a40c-4256527434a2"
   },
   "outputs": [
    {
     "data": {
      "text/plain": [
       "[1, 2, 3, 1, 2, 3, 1, 2, 3]"
      ]
     },
     "execution_count": 29,
     "metadata": {},
     "output_type": "execute_result"
    }
   ],
   "source": [
    "a * list"
   ]
  },
  {
   "cell_type": "code",
   "execution_count": 30,
   "id": "623d2abc",
   "metadata": {
    "id": "623d2abc"
   },
   "outputs": [],
   "source": [
    "list.remove(2)"
   ]
  },
  {
   "cell_type": "code",
   "execution_count": 31,
   "id": "40678708",
   "metadata": {
    "colab": {
     "base_uri": "https://localhost:8080/"
    },
    "id": "40678708",
    "outputId": "140a1155-fe79-4089-dcb9-7ba911650cbf"
   },
   "outputs": [
    {
     "data": {
      "text/plain": [
       "[1, 3]"
      ]
     },
     "execution_count": 31,
     "metadata": {},
     "output_type": "execute_result"
    }
   ],
   "source": [
    "list"
   ]
  },
  {
   "cell_type": "code",
   "execution_count": 32,
   "id": "d3cd754c",
   "metadata": {
    "id": "d3cd754c"
   },
   "outputs": [],
   "source": [
    "list.append(2)"
   ]
  },
  {
   "cell_type": "code",
   "execution_count": 33,
   "id": "c65a910f",
   "metadata": {
    "colab": {
     "base_uri": "https://localhost:8080/"
    },
    "id": "c65a910f",
    "outputId": "94f0b718-aeca-4334-e82a-6aa5f6787c0a"
   },
   "outputs": [
    {
     "data": {
      "text/plain": [
       "[1, 3, 2]"
      ]
     },
     "execution_count": 33,
     "metadata": {},
     "output_type": "execute_result"
    }
   ],
   "source": [
    "list"
   ]
  },
  {
   "cell_type": "code",
   "execution_count": 34,
   "id": "890f989b",
   "metadata": {
    "id": "890f989b"
   },
   "outputs": [],
   "source": [
    "list.sort()"
   ]
  },
  {
   "cell_type": "code",
   "execution_count": 35,
   "id": "5e00bb2e",
   "metadata": {
    "colab": {
     "base_uri": "https://localhost:8080/"
    },
    "id": "5e00bb2e",
    "outputId": "65f4c26d-1025-43b7-c1ff-ffe06d412625"
   },
   "outputs": [
    {
     "data": {
      "text/plain": [
       "[1, 2, 3]"
      ]
     },
     "execution_count": 35,
     "metadata": {},
     "output_type": "execute_result"
    }
   ],
   "source": [
    "list"
   ]
  },
  {
   "cell_type": "code",
   "execution_count": 36,
   "id": "3c9d817f",
   "metadata": {
    "id": "3c9d817f"
   },
   "outputs": [],
   "source": [
    "list.reverse()"
   ]
  },
  {
   "cell_type": "code",
   "execution_count": 37,
   "id": "d9cf7624",
   "metadata": {
    "colab": {
     "base_uri": "https://localhost:8080/"
    },
    "id": "d9cf7624",
    "outputId": "6632704a-d7f5-400b-8211-8922c73e2a84"
   },
   "outputs": [
    {
     "data": {
      "text/plain": [
       "[3, 2, 1]"
      ]
     },
     "execution_count": 37,
     "metadata": {},
     "output_type": "execute_result"
    }
   ],
   "source": [
    "list"
   ]
  },
  {
   "cell_type": "code",
   "execution_count": 38,
   "id": "e8a748a8",
   "metadata": {
    "colab": {
     "base_uri": "https://localhost:8080/"
    },
    "id": "e8a748a8",
    "outputId": "038610f5-c2b5-4e2d-83f1-702a4258d6e7"
   },
   "outputs": [
    {
     "data": {
      "text/plain": [
       "False"
      ]
     },
     "execution_count": 38,
     "metadata": {},
     "output_type": "execute_result"
    }
   ],
   "source": [
    "4 in list"
   ]
  },
  {
   "cell_type": "code",
   "execution_count": 39,
   "id": "a6a8c221",
   "metadata": {
    "colab": {
     "base_uri": "https://localhost:8080/"
    },
    "id": "a6a8c221",
    "outputId": "d04992a3-f21f-4201-f788-9391239f21a5"
   },
   "outputs": [
    {
     "data": {
      "text/plain": [
       "True"
      ]
     },
     "execution_count": 39,
     "metadata": {},
     "output_type": "execute_result"
    }
   ],
   "source": [
    "3 in list"
   ]
  },
  {
   "cell_type": "code",
   "execution_count": 40,
   "id": "a4806d0f",
   "metadata": {
    "colab": {
     "base_uri": "https://localhost:8080/"
    },
    "id": "a4806d0f",
    "outputId": "28567a35-f044-4c2e-dbd9-37df65b04493"
   },
   "outputs": [
    {
     "data": {
      "text/plain": [
       "3"
      ]
     },
     "execution_count": 40,
     "metadata": {},
     "output_type": "execute_result"
    }
   ],
   "source": [
    "len(list)"
   ]
  },
  {
   "cell_type": "markdown",
   "id": "7485f845",
   "metadata": {
    "id": "7485f845"
   },
   "source": [
    "### Logische Operatoren"
   ]
  },
  {
   "cell_type": "markdown",
   "id": "9257b2f5",
   "metadata": {
    "id": "9257b2f5"
   },
   "source": [
    "In dieser kurzen Abschnitt behandeln wir sogenannte logische Operatoren. Hiermit kann man feststellen, ob eine Aussage z.B. wahr oder falsch ist."
   ]
  },
  {
   "cell_type": "code",
   "execution_count": 41,
   "id": "6c3665fe",
   "metadata": {
    "id": "6c3665fe"
   },
   "outputs": [],
   "source": [
    "x = True"
   ]
  },
  {
   "cell_type": "code",
   "execution_count": 42,
   "id": "8979a683",
   "metadata": {
    "id": "8979a683"
   },
   "outputs": [],
   "source": [
    "y = False"
   ]
  },
  {
   "cell_type": "code",
   "execution_count": 43,
   "id": "bed67702",
   "metadata": {
    "colab": {
     "base_uri": "https://localhost:8080/"
    },
    "id": "bed67702",
    "outputId": "4f3074da-9c03-4a9b-abf6-32a78a2a5dc2"
   },
   "outputs": [
    {
     "data": {
      "text/plain": [
       "False"
      ]
     },
     "execution_count": 43,
     "metadata": {},
     "output_type": "execute_result"
    }
   ],
   "source": [
    "x and y"
   ]
  },
  {
   "cell_type": "code",
   "execution_count": 44,
   "id": "384cc1f1",
   "metadata": {
    "colab": {
     "base_uri": "https://localhost:8080/"
    },
    "id": "384cc1f1",
    "outputId": "2c2fb623-a7c8-4525-cfff-beb557f6d104"
   },
   "outputs": [
    {
     "data": {
      "text/plain": [
       "True"
      ]
     },
     "execution_count": 44,
     "metadata": {},
     "output_type": "execute_result"
    }
   ],
   "source": [
    "x or y"
   ]
  },
  {
   "cell_type": "code",
   "execution_count": 45,
   "id": "fcf5bb4b",
   "metadata": {
    "colab": {
     "base_uri": "https://localhost:8080/"
    },
    "id": "fcf5bb4b",
    "outputId": "0f428c2c-e554-4497-a982-20afa5f7f560"
   },
   "outputs": [
    {
     "data": {
      "text/plain": [
       "True"
      ]
     },
     "execution_count": 45,
     "metadata": {},
     "output_type": "execute_result"
    }
   ],
   "source": [
    "not y"
   ]
  },
  {
   "cell_type": "code",
   "execution_count": 46,
   "id": "704707a9",
   "metadata": {
    "colab": {
     "base_uri": "https://localhost:8080/"
    },
    "id": "704707a9",
    "outputId": "8d22d5eb-46fc-4808-9222-9a5d0586f6d2"
   },
   "outputs": [
    {
     "data": {
      "text/plain": [
       "False"
      ]
     },
     "execution_count": 46,
     "metadata": {},
     "output_type": "execute_result"
    }
   ],
   "source": [
    "e == 6"
   ]
  },
  {
   "cell_type": "code",
   "execution_count": 47,
   "id": "d59c94da-4846-4b35-88ce-0a3e32be161b",
   "metadata": {
    "tags": []
   },
   "outputs": [
    {
     "data": {
      "text/plain": [
       "True"
      ]
     },
     "execution_count": 47,
     "metadata": {},
     "output_type": "execute_result"
    }
   ],
   "source": [
    "e == 5"
   ]
  },
  {
   "cell_type": "markdown",
   "id": "7552dfb3",
   "metadata": {
    "id": "7552dfb3"
   },
   "source": [
    "### Importieren von libraries und Arbeit in numpy"
   ]
  },
  {
   "cell_type": "markdown",
   "id": "0b7d57e3",
   "metadata": {
    "id": "0b7d57e3"
   },
   "source": [
    "Abschließend wollen wir Ihnen noch ein wenig einige der wichtigsten Grundfunktionen von Python zeigen: das importieren von libraries und packages. Im Internet existiert eine Vielzahl von Möglichkeiten, die frei zugängliche Arbeit anderer über sogenannte libraries für sich zu nutzen. Heute importieren und arbeiten wir mit \"numpy\", eine der wichtigsten DataScience libraries in Python."
   ]
  },
  {
   "cell_type": "markdown",
   "id": "1f5476ca",
   "metadata": {
    "id": "1f5476ca"
   },
   "source": [
    "Jede library, package oder modul wird (meistens) durch eines der folgenden Schemata importiert und für Sie nutzbar gemacht:\n",
    "- import XXX\n",
    "- import XXX as X\n",
    "- from XXX import X\n",
    "\n",
    "WICHTIG: Es existieren häufig ausführliche Dokumentationen und Beispiele der jeweiligen Anwendungen im Internet. Sie können den dort gezeigten Code kopieren und damit selbstständig üben."
   ]
  },
  {
   "cell_type": "code",
   "execution_count": 48,
   "id": "660c95b4-6fdc-4edf-846e-942105440457",
   "metadata": {
    "tags": []
   },
   "outputs": [
    {
     "name": "stdout",
     "output_type": "stream",
     "text": [
      "Requirement already satisfied: numpy in /home/studio-lab-user/.conda/envs/default/lib/python3.9/site-packages (1.25.2)\n",
      "Note: you may need to restart the kernel to use updated packages.\n"
     ]
    }
   ],
   "source": [
    "pip install numpy"
   ]
  },
  {
   "cell_type": "code",
   "execution_count": 49,
   "id": "e14ce355",
   "metadata": {
    "id": "e14ce355"
   },
   "outputs": [],
   "source": [
    "import numpy as np"
   ]
  },
  {
   "cell_type": "markdown",
   "id": "cebaa7f8",
   "metadata": {
    "id": "cebaa7f8"
   },
   "source": [
    "Numpy arbeitet mit sogenannten arrays um Berechnungen durchzuführen. Numpy arrays besitzen dabei mehrere Dimensionen, abhängig von ihrem Aufbau. Ein ein-dimensionaler numpy array entspricht dabei einer einfachen Liste von Zahlen."
   ]
  },
  {
   "cell_type": "code",
   "execution_count": 50,
   "id": "71215f16",
   "metadata": {
    "id": "71215f16"
   },
   "outputs": [],
   "source": [
    "m = np.array([0,1,0])"
   ]
  },
  {
   "cell_type": "code",
   "execution_count": 51,
   "id": "752ebeb8",
   "metadata": {
    "colab": {
     "base_uri": "https://localhost:8080/"
    },
    "id": "752ebeb8",
    "outputId": "5d480287-e48f-43fa-8d4e-ff8460501bae"
   },
   "outputs": [
    {
     "data": {
      "text/plain": [
       "array([0, 1, 0])"
      ]
     },
     "execution_count": 51,
     "metadata": {},
     "output_type": "execute_result"
    }
   ],
   "source": [
    "m"
   ]
  },
  {
   "cell_type": "markdown",
   "id": "a35e10da",
   "metadata": {
    "id": "a35e10da"
   },
   "source": [
    "Mehrdimensionale Arrays bestehen vereinfacht gesagt aus mehr als einer Liste, also einer Reihe von Listen. Mehrdimensionale Arrays in Numpy bieten den Vorteil, dass sie schnellere Berechnungen erlauben und Anwendungen aus der Numpy-Library bietet."
   ]
  },
  {
   "cell_type": "code",
   "execution_count": 52,
   "id": "b9a7d06f",
   "metadata": {
    "id": "b9a7d06f"
   },
   "outputs": [],
   "source": [
    "n = np.array([[1,1,1],\n",
    "            [0,0,0],\n",
    "            [1,1,1]])"
   ]
  },
  {
   "cell_type": "code",
   "execution_count": 53,
   "id": "Q5zxgr_zk3uJ",
   "metadata": {
    "colab": {
     "base_uri": "https://localhost:8080/"
    },
    "id": "Q5zxgr_zk3uJ",
    "outputId": "b23ce66b-d727-4459-ae14-c2f9265dfac8"
   },
   "outputs": [
    {
     "data": {
      "text/plain": [
       "array([[1, 1, 1],\n",
       "       [0, 0, 0],\n",
       "       [1, 1, 1]])"
      ]
     },
     "execution_count": 53,
     "metadata": {},
     "output_type": "execute_result"
    }
   ],
   "source": [
    "n"
   ]
  },
  {
   "cell_type": "code",
   "execution_count": 54,
   "id": "ebba2eb7",
   "metadata": {
    "id": "ebba2eb7"
   },
   "outputs": [],
   "source": [
    "o = np.array([[0,0,0],\n",
    "             [5,5,5],\n",
    "             [0,0,0]])"
   ]
  },
  {
   "cell_type": "code",
   "execution_count": 55,
   "id": "9a8d8e7d",
   "metadata": {
    "colab": {
     "base_uri": "https://localhost:8080/"
    },
    "id": "9a8d8e7d",
    "outputId": "671828e5-cb19-40c3-f4b8-cd4c51648490"
   },
   "outputs": [
    {
     "data": {
      "text/plain": [
       "array([[1, 1, 1],\n",
       "       [5, 5, 5],\n",
       "       [1, 1, 1]])"
      ]
     },
     "execution_count": 55,
     "metadata": {},
     "output_type": "execute_result"
    }
   ],
   "source": [
    "n+o"
   ]
  },
  {
   "cell_type": "code",
   "execution_count": 56,
   "id": "51ec2c9b",
   "metadata": {
    "colab": {
     "base_uri": "https://localhost:8080/"
    },
    "id": "51ec2c9b",
    "outputId": "3d5881f2-00b0-4085-9ba6-e0048f48535b"
   },
   "outputs": [
    {
     "data": {
      "text/plain": [
       "array([[0, 0, 0],\n",
       "       [0, 0, 0],\n",
       "       [0, 0, 0]])"
      ]
     },
     "execution_count": 56,
     "metadata": {},
     "output_type": "execute_result"
    }
   ],
   "source": [
    "n*o"
   ]
  },
  {
   "cell_type": "code",
   "execution_count": 57,
   "id": "d2ba40a9",
   "metadata": {
    "colab": {
     "base_uri": "https://localhost:8080/"
    },
    "id": "d2ba40a9",
    "outputId": "17ed047b-ac64-4051-a93c-3ef9581e0e14"
   },
   "outputs": [
    {
     "data": {
      "text/plain": [
       "1"
      ]
     },
     "execution_count": 57,
     "metadata": {},
     "output_type": "execute_result"
    }
   ],
   "source": [
    "np.max(n)"
   ]
  },
  {
   "cell_type": "code",
   "execution_count": 58,
   "id": "5795e5bb-0c15-473d-948b-1f49685704b9",
   "metadata": {
    "tags": []
   },
   "outputs": [
    {
     "data": {
      "text/plain": [
       "5"
      ]
     },
     "execution_count": 58,
     "metadata": {},
     "output_type": "execute_result"
    }
   ],
   "source": [
    "np.max(o)"
   ]
  },
  {
   "cell_type": "code",
   "execution_count": 59,
   "id": "7e7d1adf",
   "metadata": {
    "colab": {
     "base_uri": "https://localhost:8080/"
    },
    "id": "7e7d1adf",
    "outputId": "897c4da8-218d-4cdd-a7b6-e739500d58f9"
   },
   "outputs": [
    {
     "data": {
      "text/plain": [
       "0"
      ]
     },
     "execution_count": 59,
     "metadata": {},
     "output_type": "execute_result"
    }
   ],
   "source": [
    "np.min(n)"
   ]
  },
  {
   "cell_type": "code",
   "execution_count": 60,
   "id": "heHejCvDlQhV",
   "metadata": {
    "colab": {
     "base_uri": "https://localhost:8080/"
    },
    "id": "heHejCvDlQhV",
    "outputId": "ecdd34b9-7c51-4c01-9255-03665da174e5"
   },
   "outputs": [
    {
     "data": {
      "text/plain": [
       "0"
      ]
     },
     "execution_count": 60,
     "metadata": {},
     "output_type": "execute_result"
    }
   ],
   "source": [
    "np.min(o)"
   ]
  },
  {
   "cell_type": "code",
   "execution_count": 61,
   "id": "V2kiZ9Z-lT-b",
   "metadata": {
    "colab": {
     "base_uri": "https://localhost:8080/"
    },
    "id": "V2kiZ9Z-lT-b",
    "outputId": "9f2350dc-a1ba-424a-a3bf-bce8e023873d"
   },
   "outputs": [
    {
     "data": {
      "text/plain": [
       "5"
      ]
     },
     "execution_count": 61,
     "metadata": {},
     "output_type": "execute_result"
    }
   ],
   "source": [
    "np.max(o)"
   ]
  },
  {
   "cell_type": "code",
   "execution_count": 62,
   "id": "81335fdf",
   "metadata": {
    "id": "81335fdf"
   },
   "outputs": [],
   "source": [
    "p = np.array([10,11,12,13,14,15,16,17,18,19])"
   ]
  },
  {
   "cell_type": "code",
   "execution_count": 63,
   "id": "c8658b35",
   "metadata": {
    "colab": {
     "base_uri": "https://localhost:8080/"
    },
    "id": "c8658b35",
    "outputId": "9d82c6d3-4fa6-4bf5-895e-71b3ba2c5f7d"
   },
   "outputs": [
    {
     "data": {
      "text/plain": [
       "array([10, 11, 12, 13, 14, 15, 16, 17, 18, 19])"
      ]
     },
     "execution_count": 63,
     "metadata": {},
     "output_type": "execute_result"
    }
   ],
   "source": [
    "p"
   ]
  },
  {
   "cell_type": "code",
   "execution_count": 62,
   "id": "e9c6cbff",
   "metadata": {
    "colab": {
     "base_uri": "https://localhost:8080/"
    },
    "id": "e9c6cbff",
    "outputId": "e78da62b-cd02-4f7a-b190-e1d01b2b1384"
   },
   "outputs": [
    {
     "data": {
      "text/plain": [
       "10"
      ]
     },
     "execution_count": 62,
     "metadata": {},
     "output_type": "execute_result"
    }
   ],
   "source": [
    "p[0]"
   ]
  },
  {
   "cell_type": "code",
   "execution_count": 64,
   "id": "Ocp2XK7wFe3i",
   "metadata": {
    "colab": {
     "base_uri": "https://localhost:8080/"
    },
    "id": "Ocp2XK7wFe3i",
    "outputId": "184d414d-c6bd-4033-a4f1-4446c0a72741"
   },
   "outputs": [
    {
     "data": {
      "text/plain": [
       "11"
      ]
     },
     "execution_count": 64,
     "metadata": {},
     "output_type": "execute_result"
    }
   ],
   "source": [
    "p[1]"
   ]
  },
  {
   "cell_type": "code",
   "execution_count": 65,
   "id": "b5Jsrwqslew2",
   "metadata": {
    "colab": {
     "base_uri": "https://localhost:8080/"
    },
    "id": "b5Jsrwqslew2",
    "outputId": "f89a3433-f9a4-4c9b-9a0b-ffbfa67a44be"
   },
   "outputs": [
    {
     "data": {
      "text/plain": [
       "12"
      ]
     },
     "execution_count": 65,
     "metadata": {},
     "output_type": "execute_result"
    }
   ],
   "source": [
    "p[2]"
   ]
  },
  {
   "cell_type": "code",
   "execution_count": 66,
   "id": "7297bf84",
   "metadata": {
    "colab": {
     "base_uri": "https://localhost:8080/"
    },
    "id": "7297bf84",
    "outputId": "b76f184e-6d95-4d5d-81e9-10a280977674"
   },
   "outputs": [
    {
     "data": {
      "text/plain": [
       "array([10, 11, 12, 13, 14, 15, 16, 17, 18, 19])"
      ]
     },
     "execution_count": 66,
     "metadata": {},
     "output_type": "execute_result"
    }
   ],
   "source": [
    "p[0:]"
   ]
  },
  {
   "cell_type": "code",
   "execution_count": 67,
   "id": "b508148e",
   "metadata": {
    "colab": {
     "base_uri": "https://localhost:8080/"
    },
    "id": "b508148e",
    "outputId": "f9eb81d6-cb03-4f88-8714-ea226fdf21d2"
   },
   "outputs": [
    {
     "data": {
      "text/plain": [
       "array([11, 12, 13, 14, 15, 16, 17, 18, 19])"
      ]
     },
     "execution_count": 67,
     "metadata": {},
     "output_type": "execute_result"
    }
   ],
   "source": [
    "p[1:]"
   ]
  },
  {
   "cell_type": "code",
   "execution_count": 68,
   "id": "5b146c14",
   "metadata": {
    "colab": {
     "base_uri": "https://localhost:8080/"
    },
    "id": "5b146c14",
    "outputId": "7e637080-23f6-4d9f-ed6f-36ab74245516"
   },
   "outputs": [
    {
     "data": {
      "text/plain": [
       "array([10])"
      ]
     },
     "execution_count": 68,
     "metadata": {},
     "output_type": "execute_result"
    }
   ],
   "source": [
    "p[:1]"
   ]
  },
  {
   "cell_type": "code",
   "execution_count": 69,
   "id": "8b651adf",
   "metadata": {
    "colab": {
     "base_uri": "https://localhost:8080/"
    },
    "id": "8b651adf",
    "outputId": "db41a5df-8252-4824-de87-3a8c7fb65016"
   },
   "outputs": [
    {
     "data": {
      "text/plain": [
       "array([10, 11, 12, 13, 14, 15, 16, 17])"
      ]
     },
     "execution_count": 69,
     "metadata": {},
     "output_type": "execute_result"
    }
   ],
   "source": [
    "p[:8]"
   ]
  },
  {
   "cell_type": "code",
   "execution_count": 70,
   "id": "da1ddc7c",
   "metadata": {
    "colab": {
     "base_uri": "https://localhost:8080/"
    },
    "id": "da1ddc7c",
    "outputId": "b6e3d03d-c4b6-4c60-8a1b-619ad8fdda27"
   },
   "outputs": [
    {
     "data": {
      "text/plain": [
       "array([12, 13, 14, 15, 16, 17])"
      ]
     },
     "execution_count": 70,
     "metadata": {},
     "output_type": "execute_result"
    }
   ],
   "source": [
    "p[2:8]"
   ]
  },
  {
   "cell_type": "code",
   "execution_count": 71,
   "id": "13630b06-a01f-47ef-b93b-d72058bd335f",
   "metadata": {
    "tags": []
   },
   "outputs": [
    {
     "data": {
      "text/plain": [
       "array([10, 11])"
      ]
     },
     "execution_count": 71,
     "metadata": {},
     "output_type": "execute_result"
    }
   ],
   "source": [
    "p[0:2]"
   ]
  },
  {
   "cell_type": "code",
   "execution_count": null,
   "id": "4eed3514-dd72-49c3-ba70-62ed832d2ff2",
   "metadata": {},
   "outputs": [],
   "source": []
  }
 ],
 "metadata": {
  "colab": {
   "provenance": []
  },
  "kernelspec": {
   "display_name": "default:Python",
   "language": "python",
   "name": "conda-env-default-py"
  },
  "language_info": {
   "codemirror_mode": {
    "name": "ipython",
    "version": 3
   },
   "file_extension": ".py",
   "mimetype": "text/x-python",
   "name": "python",
   "nbconvert_exporter": "python",
   "pygments_lexer": "ipython3",
   "version": "3.9.16"
  }
 },
 "nbformat": 4,
 "nbformat_minor": 5
}
