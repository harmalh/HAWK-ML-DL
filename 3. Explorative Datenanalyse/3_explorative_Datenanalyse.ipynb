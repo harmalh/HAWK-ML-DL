{
 "cells": [
  {
   "cell_type": "markdown",
   "id": "cc893d2c",
   "metadata": {
    "id": "cc893d2c"
   },
   "source": [
    "# Sitzung 3: explorative Datenanalyse"
   ]
  },
  {
   "cell_type": "markdown",
   "id": "I3vebtCBQT_2",
   "metadata": {
    "id": "I3vebtCBQT_2"
   },
   "source": [
    "Zu Beginn importieren wir pandas um unsere Daten in ein DataFrame zu laden. Ein DataFrame in Pandas ist exakt genauso aufgebaut wie eine Excel-Liste, bietet allerdings die Möglichkeiten, durch eine Vielzahl von Anwendungen das DataFrame zu bearbeiten oder für Anwendungen im Bereich Maschinelles Lernen zu nutzen."
   ]
  },
  {
   "cell_type": "code",
   "execution_count": 1,
   "id": "9b96861f-59d7-4e3b-ba7c-255ad00ad837",
   "metadata": {},
   "outputs": [
    {
     "name": "stdout",
     "output_type": "stream",
     "text": [
      "Requirement already satisfied: pandas in /home/studio-lab-user/.conda/envs/default/lib/python3.9/site-packages (2.0.3)\n",
      "Requirement already satisfied: tzdata>=2022.1 in /home/studio-lab-user/.conda/envs/default/lib/python3.9/site-packages (from pandas) (2023.3)\n",
      "Requirement already satisfied: pytz>=2020.1 in /home/studio-lab-user/.conda/envs/default/lib/python3.9/site-packages (from pandas) (2023.3.post1)\n",
      "Requirement already satisfied: numpy>=1.20.3 in /home/studio-lab-user/.conda/envs/default/lib/python3.9/site-packages (from pandas) (1.25.2)\n",
      "Requirement already satisfied: python-dateutil>=2.8.2 in /home/studio-lab-user/.conda/envs/default/lib/python3.9/site-packages (from pandas) (2.8.2)\n",
      "Requirement already satisfied: six>=1.5 in /home/studio-lab-user/.conda/envs/default/lib/python3.9/site-packages (from python-dateutil>=2.8.2->pandas) (1.16.0)\n",
      "Note: you may need to restart the kernel to use updated packages.\n"
     ]
    }
   ],
   "source": [
    "pip install pandas"
   ]
  },
  {
   "cell_type": "code",
   "execution_count": 2,
   "id": "ZGRkj1AmQRCC",
   "metadata": {
    "executionInfo": {
     "elapsed": 369,
     "status": "ok",
     "timestamp": 1666875288133,
     "user": {
      "displayName": "Harm Alhusen",
      "userId": "15195264760330107310"
     },
     "user_tz": -120
    },
    "id": "ZGRkj1AmQRCC"
   },
   "outputs": [],
   "source": [
    "import pandas as pd"
   ]
  },
  {
   "cell_type": "code",
   "execution_count": 3,
   "id": "vDB_MTL_hEBw",
   "metadata": {
    "executionInfo": {
     "elapsed": 3,
     "status": "ok",
     "timestamp": 1666875416829,
     "user": {
      "displayName": "Harm Alhusen",
      "userId": "15195264760330107310"
     },
     "user_tz": -120
    },
    "id": "vDB_MTL_hEBw"
   },
   "outputs": [],
   "source": [
    "a = 5"
   ]
  },
  {
   "cell_type": "markdown",
   "id": "85f64949",
   "metadata": {
    "id": "85f64949"
   },
   "source": [
    "### Nachdem Import des pandas packages wollen wir nun unsere Daten einlesen. Hierbei handelt es sich um einen Datensatz zu AirBnB-Wohnungen in Berlin:"
   ]
  },
  {
   "cell_type": "code",
   "execution_count": 4,
   "id": "A-YGgHw8WFjB",
   "metadata": {
    "executionInfo": {
     "elapsed": 1269,
     "status": "ok",
     "timestamp": 1666875438413,
     "user": {
      "displayName": "Harm Alhusen",
      "userId": "15195264760330107310"
     },
     "user_tz": -120
    },
    "id": "A-YGgHw8WFjB"
   },
   "outputs": [],
   "source": [
    "airbnb = pd.read_csv('http://data.insideairbnb.com/germany/be/berlin/2022-09-15/visualisations/listings.csv')\n",
    "#airbnb = pd.read_csv('http://data.insideairbnb.com/germany/be/berlin/2021-09-21/visualisations/listings.csv')\n",
    "# Alternativ können sie auch die Daten für die folgenden Städte analysieren:\n",
    "  #New York: https://docs.google.com/spreadsheets/d/e/2PACX-1vQs4jOQ7TNip-UODKBYLIaULLsQJ8O0-W9-MfMfEqsDFbuWukOLi53xee62AyUPZJHv9GdllrOFsmff/pub?output=csv\n",
    "  #Paris : http://data.insideairbnb.com/france/ile-de-france/paris/2021-09-09/visualisations/listings.csv\n",
    "  #Shanghai: http://data.insideairbnb.com/china/shanghai/shanghai/2021-09-28/visualisations/listings.csv"
   ]
  },
  {
   "cell_type": "markdown",
   "id": "IfAdzp6WdWjA",
   "metadata": {
    "id": "IfAdzp6WdWjA"
   },
   "source": [
    "###Zur Arbeit mit der Datei auf dem eigenen Rechner/offline:\n",
    "Sie müssen den Pfad für den Datensatz dieser Sitzung angeben, um den Datensatz einzulesen. \n",
    "(Wenn Sie mit Jupyter Notebook offline arbeiten können Sie den Datensatz einfach über die oben angelegten URL einlesen. Alternativ können Sie die Datei im gleich Ordner speichern und dann den Datensatz über den Befehl pd.read_csv(\"lokaler Pfad\") einlesen.)\n",
    "\n",
    "airbnb = pd.read_csv('berlin_listings.csv')"
   ]
  },
  {
   "cell_type": "markdown",
   "id": "-FR6ACIYdGDp",
   "metadata": {
    "id": "-FR6ACIYdGDp"
   },
   "source": [
    "#Direkter Link zum AirBnB-Datensatz für Berlin und dessen Visualisierung: \n",
    "http://data.insideairbnb.com/germany/be/berlin/2021-09-21/visualisations/listings.csv\n",
    "#Für einen aktuellen Link aus diesem Jahr:\n",
    "http://data.insideairbnb.com/germany/be/berlin/2022-09-15/visualisations/listings.csv\n",
    "#Quelle des heutigen Tutorials: \n",
    "https://www.datacamp.com/community/tutorials/pandas\n",
    "#Quelle aller AirBnB-Datensätzen in verschiedenen Städten: \n",
    "http://insideairbnb.com/get-the-data.html"
   ]
  },
  {
   "cell_type": "markdown",
   "id": "a51d4b62",
   "metadata": {
    "id": "a51d4b62"
   },
   "source": [
    "Durch den Import des Datensatzes können wir nun anfangen, uns die Struktur der Daten anzusehen. Stellen Sie sich ein Dataframe wie eine Excel-Liste vor. Wie Excel-Listen haben DataFrames in pandas Zeilen (Beobachtungen) und Spalten (Variablen/Features). In Python können sie durch einfache Befehle ihre DataFrame bearbeiten."
   ]
  },
  {
   "cell_type": "code",
   "execution_count": 5,
   "id": "627d4479",
   "metadata": {
    "colab": {
     "base_uri": "https://localhost:8080/",
     "height": 905
    },
    "executionInfo": {
     "elapsed": 334,
     "status": "ok",
     "timestamp": 1666875518687,
     "user": {
      "displayName": "Harm Alhusen",
      "userId": "15195264760330107310"
     },
     "user_tz": -120
    },
    "id": "627d4479",
    "outputId": "fc66f75d-8316-4e82-e682-e318ae589706",
    "tags": []
   },
   "outputs": [
    {
     "data": {
      "text/html": [
       "<div>\n",
       "<style scoped>\n",
       "    .dataframe tbody tr th:only-of-type {\n",
       "        vertical-align: middle;\n",
       "    }\n",
       "\n",
       "    .dataframe tbody tr th {\n",
       "        vertical-align: top;\n",
       "    }\n",
       "\n",
       "    .dataframe thead th {\n",
       "        text-align: right;\n",
       "    }\n",
       "</style>\n",
       "<table border=\"1\" class=\"dataframe\">\n",
       "  <thead>\n",
       "    <tr style=\"text-align: right;\">\n",
       "      <th></th>\n",
       "      <th>id</th>\n",
       "      <th>name</th>\n",
       "      <th>host_id</th>\n",
       "      <th>host_name</th>\n",
       "      <th>neighbourhood_group</th>\n",
       "      <th>neighbourhood</th>\n",
       "      <th>latitude</th>\n",
       "      <th>longitude</th>\n",
       "      <th>room_type</th>\n",
       "      <th>price</th>\n",
       "      <th>minimum_nights</th>\n",
       "      <th>number_of_reviews</th>\n",
       "      <th>last_review</th>\n",
       "      <th>reviews_per_month</th>\n",
       "      <th>calculated_host_listings_count</th>\n",
       "      <th>availability_365</th>\n",
       "      <th>number_of_reviews_ltm</th>\n",
       "      <th>license</th>\n",
       "    </tr>\n",
       "  </thead>\n",
       "  <tbody>\n",
       "    <tr>\n",
       "      <th>0</th>\n",
       "      <td>652868795892201022</td>\n",
       "      <td>Kleine Auszeit? Oder Business-Trip? Alles mögl...</td>\n",
       "      <td>21708794</td>\n",
       "      <td>Familie Sek</td>\n",
       "      <td>Tempelhof - Schöneberg</td>\n",
       "      <td>Lichtenrade</td>\n",
       "      <td>52.357652</td>\n",
       "      <td>13.399098</td>\n",
       "      <td>Entire home/apt</td>\n",
       "      <td>88</td>\n",
       "      <td>1</td>\n",
       "      <td>0</td>\n",
       "      <td>NaN</td>\n",
       "      <td>NaN</td>\n",
       "      <td>1</td>\n",
       "      <td>6</td>\n",
       "      <td>0</td>\n",
       "      <td>NaN</td>\n",
       "    </tr>\n",
       "    <tr>\n",
       "      <th>1</th>\n",
       "      <td>27080612</td>\n",
       "      <td>Apartment with Living/Sleeping Room &amp; own Kitchen</td>\n",
       "      <td>130216168</td>\n",
       "      <td>Tommy</td>\n",
       "      <td>Marzahn - Hellersdorf</td>\n",
       "      <td>Mahlsdorf</td>\n",
       "      <td>52.520060</td>\n",
       "      <td>13.659560</td>\n",
       "      <td>Entire home/apt</td>\n",
       "      <td>60</td>\n",
       "      <td>2</td>\n",
       "      <td>126</td>\n",
       "      <td>2022-09-11</td>\n",
       "      <td>2.54</td>\n",
       "      <td>2</td>\n",
       "      <td>163</td>\n",
       "      <td>18</td>\n",
       "      <td>NaN</td>\n",
       "    </tr>\n",
       "    <tr>\n",
       "      <th>2</th>\n",
       "      <td>29077694</td>\n",
       "      <td>Wohnung im Grünen nah an der Metropole</td>\n",
       "      <td>219116245</td>\n",
       "      <td>Tilmann</td>\n",
       "      <td>Steglitz - Zehlendorf</td>\n",
       "      <td>Zehlendorf  Südwest</td>\n",
       "      <td>52.412320</td>\n",
       "      <td>13.207150</td>\n",
       "      <td>Entire home/apt</td>\n",
       "      <td>36</td>\n",
       "      <td>8</td>\n",
       "      <td>29</td>\n",
       "      <td>2022-05-29</td>\n",
       "      <td>0.63</td>\n",
       "      <td>1</td>\n",
       "      <td>6</td>\n",
       "      <td>6</td>\n",
       "      <td>NaN</td>\n",
       "    </tr>\n",
       "    <tr>\n",
       "      <th>3</th>\n",
       "      <td>665648367391379321</td>\n",
       "      <td>Schöne Eigentumswohnung mit Balkon</td>\n",
       "      <td>106965422</td>\n",
       "      <td>Paul</td>\n",
       "      <td>Steglitz - Zehlendorf</td>\n",
       "      <td>Drakestr.</td>\n",
       "      <td>52.402144</td>\n",
       "      <td>13.273865</td>\n",
       "      <td>Entire home/apt</td>\n",
       "      <td>120</td>\n",
       "      <td>1</td>\n",
       "      <td>0</td>\n",
       "      <td>NaN</td>\n",
       "      <td>NaN</td>\n",
       "      <td>1</td>\n",
       "      <td>257</td>\n",
       "      <td>0</td>\n",
       "      <td>Available with a mobility lease only (\"bail mo...</td>\n",
       "    </tr>\n",
       "    <tr>\n",
       "      <th>4</th>\n",
       "      <td>37738004</td>\n",
       "      <td>Remise Villa Erica Superior Apartment</td>\n",
       "      <td>42048631</td>\n",
       "      <td>Archibald</td>\n",
       "      <td>Steglitz - Zehlendorf</td>\n",
       "      <td>Drakestr.</td>\n",
       "      <td>52.410150</td>\n",
       "      <td>13.292070</td>\n",
       "      <td>Entire home/apt</td>\n",
       "      <td>110</td>\n",
       "      <td>5</td>\n",
       "      <td>1</td>\n",
       "      <td>2019-10-26</td>\n",
       "      <td>0.03</td>\n",
       "      <td>8</td>\n",
       "      <td>160</td>\n",
       "      <td>0</td>\n",
       "      <td>NaN</td>\n",
       "    </tr>\n",
       "    <tr>\n",
       "      <th>...</th>\n",
       "      <td>...</td>\n",
       "      <td>...</td>\n",
       "      <td>...</td>\n",
       "      <td>...</td>\n",
       "      <td>...</td>\n",
       "      <td>...</td>\n",
       "      <td>...</td>\n",
       "      <td>...</td>\n",
       "      <td>...</td>\n",
       "      <td>...</td>\n",
       "      <td>...</td>\n",
       "      <td>...</td>\n",
       "      <td>...</td>\n",
       "      <td>...</td>\n",
       "      <td>...</td>\n",
       "      <td>...</td>\n",
       "      <td>...</td>\n",
       "      <td>...</td>\n",
       "    </tr>\n",
       "    <tr>\n",
       "      <th>16675</th>\n",
       "      <td>2650812</td>\n",
       "      <td>Gäste-Zimmer   ALEXA   2</td>\n",
       "      <td>13569320</td>\n",
       "      <td>Karl</td>\n",
       "      <td>Treptow - Köpenick</td>\n",
       "      <td>Rahnsdorf/Hessenwinkel</td>\n",
       "      <td>52.457760</td>\n",
       "      <td>13.725400</td>\n",
       "      <td>Private room</td>\n",
       "      <td>99</td>\n",
       "      <td>1</td>\n",
       "      <td>0</td>\n",
       "      <td>NaN</td>\n",
       "      <td>NaN</td>\n",
       "      <td>4</td>\n",
       "      <td>351</td>\n",
       "      <td>0</td>\n",
       "      <td>NaN</td>\n",
       "    </tr>\n",
       "    <tr>\n",
       "      <th>16676</th>\n",
       "      <td>39853201</td>\n",
       "      <td>3-Zi-Wohnung am  Dämeritzsee, Berlin, Brandenburg</td>\n",
       "      <td>89818386</td>\n",
       "      <td>Hanne</td>\n",
       "      <td>Treptow - Köpenick</td>\n",
       "      <td>Müggelheim</td>\n",
       "      <td>52.418070</td>\n",
       "      <td>13.741730</td>\n",
       "      <td>Entire home/apt</td>\n",
       "      <td>160</td>\n",
       "      <td>4</td>\n",
       "      <td>23</td>\n",
       "      <td>2022-08-11</td>\n",
       "      <td>0.87</td>\n",
       "      <td>1</td>\n",
       "      <td>148</td>\n",
       "      <td>12</td>\n",
       "      <td>NaN</td>\n",
       "    </tr>\n",
       "    <tr>\n",
       "      <th>16677</th>\n",
       "      <td>2855881</td>\n",
       "      <td>Gäste-Zimmer  ALEXA  4</td>\n",
       "      <td>13569320</td>\n",
       "      <td>Karl</td>\n",
       "      <td>Treptow - Köpenick</td>\n",
       "      <td>Rahnsdorf/Hessenwinkel</td>\n",
       "      <td>52.459650</td>\n",
       "      <td>13.725480</td>\n",
       "      <td>Private room</td>\n",
       "      <td>195</td>\n",
       "      <td>1</td>\n",
       "      <td>0</td>\n",
       "      <td>NaN</td>\n",
       "      <td>NaN</td>\n",
       "      <td>4</td>\n",
       "      <td>336</td>\n",
       "      <td>0</td>\n",
       "      <td>NaN</td>\n",
       "    </tr>\n",
       "    <tr>\n",
       "      <th>16678</th>\n",
       "      <td>46313178</td>\n",
       "      <td>TESLA / Grünheide Wohnung hochwertig möbliert</td>\n",
       "      <td>87267772</td>\n",
       "      <td>Florian</td>\n",
       "      <td>Treptow - Köpenick</td>\n",
       "      <td>Rahnsdorf/Hessenwinkel</td>\n",
       "      <td>52.460610</td>\n",
       "      <td>13.699170</td>\n",
       "      <td>Entire home/apt</td>\n",
       "      <td>60</td>\n",
       "      <td>90</td>\n",
       "      <td>0</td>\n",
       "      <td>NaN</td>\n",
       "      <td>NaN</td>\n",
       "      <td>1</td>\n",
       "      <td>288</td>\n",
       "      <td>0</td>\n",
       "      <td>NaN</td>\n",
       "    </tr>\n",
       "    <tr>\n",
       "      <th>16679</th>\n",
       "      <td>602778194698740348</td>\n",
       "      <td>Moderne Souterrainwohnung mit großer Terrasse</td>\n",
       "      <td>185432505</td>\n",
       "      <td>Friedrich</td>\n",
       "      <td>Treptow - Köpenick</td>\n",
       "      <td>Rahnsdorf/Hessenwinkel</td>\n",
       "      <td>52.455200</td>\n",
       "      <td>13.756080</td>\n",
       "      <td>Entire home/apt</td>\n",
       "      <td>60</td>\n",
       "      <td>1</td>\n",
       "      <td>0</td>\n",
       "      <td>NaN</td>\n",
       "      <td>NaN</td>\n",
       "      <td>1</td>\n",
       "      <td>75</td>\n",
       "      <td>0</td>\n",
       "      <td>NaN</td>\n",
       "    </tr>\n",
       "  </tbody>\n",
       "</table>\n",
       "<p>16680 rows × 18 columns</p>\n",
       "</div>"
      ],
      "text/plain": [
       "                       id                                               name  \\\n",
       "0      652868795892201022  Kleine Auszeit? Oder Business-Trip? Alles mögl...   \n",
       "1                27080612  Apartment with Living/Sleeping Room & own Kitchen   \n",
       "2                29077694             Wohnung im Grünen nah an der Metropole   \n",
       "3      665648367391379321                 Schöne Eigentumswohnung mit Balkon   \n",
       "4                37738004              Remise Villa Erica Superior Apartment   \n",
       "...                   ...                                                ...   \n",
       "16675             2650812                           Gäste-Zimmer   ALEXA   2   \n",
       "16676            39853201  3-Zi-Wohnung am  Dämeritzsee, Berlin, Brandenburg   \n",
       "16677             2855881                             Gäste-Zimmer  ALEXA  4   \n",
       "16678            46313178      TESLA / Grünheide Wohnung hochwertig möbliert   \n",
       "16679  602778194698740348      Moderne Souterrainwohnung mit großer Terrasse   \n",
       "\n",
       "         host_id    host_name     neighbourhood_group           neighbourhood  \\\n",
       "0       21708794  Familie Sek  Tempelhof - Schöneberg             Lichtenrade   \n",
       "1      130216168        Tommy   Marzahn - Hellersdorf               Mahlsdorf   \n",
       "2      219116245      Tilmann   Steglitz - Zehlendorf     Zehlendorf  Südwest   \n",
       "3      106965422         Paul   Steglitz - Zehlendorf               Drakestr.   \n",
       "4       42048631    Archibald   Steglitz - Zehlendorf               Drakestr.   \n",
       "...          ...          ...                     ...                     ...   \n",
       "16675   13569320         Karl      Treptow - Köpenick  Rahnsdorf/Hessenwinkel   \n",
       "16676   89818386        Hanne      Treptow - Köpenick              Müggelheim   \n",
       "16677   13569320         Karl      Treptow - Köpenick  Rahnsdorf/Hessenwinkel   \n",
       "16678   87267772      Florian      Treptow - Köpenick  Rahnsdorf/Hessenwinkel   \n",
       "16679  185432505    Friedrich      Treptow - Köpenick  Rahnsdorf/Hessenwinkel   \n",
       "\n",
       "        latitude  longitude        room_type  price  minimum_nights  \\\n",
       "0      52.357652  13.399098  Entire home/apt     88               1   \n",
       "1      52.520060  13.659560  Entire home/apt     60               2   \n",
       "2      52.412320  13.207150  Entire home/apt     36               8   \n",
       "3      52.402144  13.273865  Entire home/apt    120               1   \n",
       "4      52.410150  13.292070  Entire home/apt    110               5   \n",
       "...          ...        ...              ...    ...             ...   \n",
       "16675  52.457760  13.725400     Private room     99               1   \n",
       "16676  52.418070  13.741730  Entire home/apt    160               4   \n",
       "16677  52.459650  13.725480     Private room    195               1   \n",
       "16678  52.460610  13.699170  Entire home/apt     60              90   \n",
       "16679  52.455200  13.756080  Entire home/apt     60               1   \n",
       "\n",
       "       number_of_reviews last_review  reviews_per_month  \\\n",
       "0                      0         NaN                NaN   \n",
       "1                    126  2022-09-11               2.54   \n",
       "2                     29  2022-05-29               0.63   \n",
       "3                      0         NaN                NaN   \n",
       "4                      1  2019-10-26               0.03   \n",
       "...                  ...         ...                ...   \n",
       "16675                  0         NaN                NaN   \n",
       "16676                 23  2022-08-11               0.87   \n",
       "16677                  0         NaN                NaN   \n",
       "16678                  0         NaN                NaN   \n",
       "16679                  0         NaN                NaN   \n",
       "\n",
       "       calculated_host_listings_count  availability_365  \\\n",
       "0                                   1                 6   \n",
       "1                                   2               163   \n",
       "2                                   1                 6   \n",
       "3                                   1               257   \n",
       "4                                   8               160   \n",
       "...                               ...               ...   \n",
       "16675                               4               351   \n",
       "16676                               1               148   \n",
       "16677                               4               336   \n",
       "16678                               1               288   \n",
       "16679                               1                75   \n",
       "\n",
       "       number_of_reviews_ltm  \\\n",
       "0                          0   \n",
       "1                         18   \n",
       "2                          6   \n",
       "3                          0   \n",
       "4                          0   \n",
       "...                      ...   \n",
       "16675                      0   \n",
       "16676                     12   \n",
       "16677                      0   \n",
       "16678                      0   \n",
       "16679                      0   \n",
       "\n",
       "                                                 license  \n",
       "0                                                    NaN  \n",
       "1                                                    NaN  \n",
       "2                                                    NaN  \n",
       "3      Available with a mobility lease only (\"bail mo...  \n",
       "4                                                    NaN  \n",
       "...                                                  ...  \n",
       "16675                                                NaN  \n",
       "16676                                                NaN  \n",
       "16677                                                NaN  \n",
       "16678                                                NaN  \n",
       "16679                                                NaN  \n",
       "\n",
       "[16680 rows x 18 columns]"
      ]
     },
     "execution_count": 5,
     "metadata": {},
     "output_type": "execute_result"
    }
   ],
   "source": [
    "airbnb"
   ]
  },
  {
   "cell_type": "markdown",
   "id": "49c3d433",
   "metadata": {
    "id": "49c3d433"
   },
   "source": [
    "Aufgrund der vielen Beobachtungen (Zeilen) ist die Darstellung sehr unübersichtlich. Wir verwenden die .head() Funktion bei unserem Datensatz, um uns nur die ersten Beobachtungen anzeigen zu lassen. Die .tail() Funktion zeigt uns die letzten Beobachtungen in unserem Datensatz an."
   ]
  },
  {
   "cell_type": "code",
   "execution_count": 6,
   "id": "c3eb1107",
   "metadata": {
    "colab": {
     "base_uri": "https://localhost:8080/",
     "height": 809
    },
    "executionInfo": {
     "elapsed": 334,
     "status": "ok",
     "timestamp": 1666875701419,
     "user": {
      "displayName": "Harm Alhusen",
      "userId": "15195264760330107310"
     },
     "user_tz": -120
    },
    "id": "c3eb1107",
    "outputId": "f0e633da-a914-45c6-b8be-663e7dae338b",
    "tags": []
   },
   "outputs": [
    {
     "data": {
      "text/html": [
       "<div>\n",
       "<style scoped>\n",
       "    .dataframe tbody tr th:only-of-type {\n",
       "        vertical-align: middle;\n",
       "    }\n",
       "\n",
       "    .dataframe tbody tr th {\n",
       "        vertical-align: top;\n",
       "    }\n",
       "\n",
       "    .dataframe thead th {\n",
       "        text-align: right;\n",
       "    }\n",
       "</style>\n",
       "<table border=\"1\" class=\"dataframe\">\n",
       "  <thead>\n",
       "    <tr style=\"text-align: right;\">\n",
       "      <th></th>\n",
       "      <th>id</th>\n",
       "      <th>name</th>\n",
       "      <th>host_id</th>\n",
       "      <th>host_name</th>\n",
       "      <th>neighbourhood_group</th>\n",
       "      <th>neighbourhood</th>\n",
       "      <th>latitude</th>\n",
       "      <th>longitude</th>\n",
       "      <th>room_type</th>\n",
       "      <th>price</th>\n",
       "      <th>minimum_nights</th>\n",
       "      <th>number_of_reviews</th>\n",
       "      <th>last_review</th>\n",
       "      <th>reviews_per_month</th>\n",
       "      <th>calculated_host_listings_count</th>\n",
       "      <th>availability_365</th>\n",
       "      <th>number_of_reviews_ltm</th>\n",
       "      <th>license</th>\n",
       "    </tr>\n",
       "  </thead>\n",
       "  <tbody>\n",
       "    <tr>\n",
       "      <th>0</th>\n",
       "      <td>652868795892201022</td>\n",
       "      <td>Kleine Auszeit? Oder Business-Trip? Alles mögl...</td>\n",
       "      <td>21708794</td>\n",
       "      <td>Familie Sek</td>\n",
       "      <td>Tempelhof - Schöneberg</td>\n",
       "      <td>Lichtenrade</td>\n",
       "      <td>52.357652</td>\n",
       "      <td>13.399098</td>\n",
       "      <td>Entire home/apt</td>\n",
       "      <td>88</td>\n",
       "      <td>1</td>\n",
       "      <td>0</td>\n",
       "      <td>NaN</td>\n",
       "      <td>NaN</td>\n",
       "      <td>1</td>\n",
       "      <td>6</td>\n",
       "      <td>0</td>\n",
       "      <td>NaN</td>\n",
       "    </tr>\n",
       "    <tr>\n",
       "      <th>1</th>\n",
       "      <td>27080612</td>\n",
       "      <td>Apartment with Living/Sleeping Room &amp; own Kitchen</td>\n",
       "      <td>130216168</td>\n",
       "      <td>Tommy</td>\n",
       "      <td>Marzahn - Hellersdorf</td>\n",
       "      <td>Mahlsdorf</td>\n",
       "      <td>52.520060</td>\n",
       "      <td>13.659560</td>\n",
       "      <td>Entire home/apt</td>\n",
       "      <td>60</td>\n",
       "      <td>2</td>\n",
       "      <td>126</td>\n",
       "      <td>2022-09-11</td>\n",
       "      <td>2.54</td>\n",
       "      <td>2</td>\n",
       "      <td>163</td>\n",
       "      <td>18</td>\n",
       "      <td>NaN</td>\n",
       "    </tr>\n",
       "    <tr>\n",
       "      <th>2</th>\n",
       "      <td>29077694</td>\n",
       "      <td>Wohnung im Grünen nah an der Metropole</td>\n",
       "      <td>219116245</td>\n",
       "      <td>Tilmann</td>\n",
       "      <td>Steglitz - Zehlendorf</td>\n",
       "      <td>Zehlendorf  Südwest</td>\n",
       "      <td>52.412320</td>\n",
       "      <td>13.207150</td>\n",
       "      <td>Entire home/apt</td>\n",
       "      <td>36</td>\n",
       "      <td>8</td>\n",
       "      <td>29</td>\n",
       "      <td>2022-05-29</td>\n",
       "      <td>0.63</td>\n",
       "      <td>1</td>\n",
       "      <td>6</td>\n",
       "      <td>6</td>\n",
       "      <td>NaN</td>\n",
       "    </tr>\n",
       "    <tr>\n",
       "      <th>3</th>\n",
       "      <td>665648367391379321</td>\n",
       "      <td>Schöne Eigentumswohnung mit Balkon</td>\n",
       "      <td>106965422</td>\n",
       "      <td>Paul</td>\n",
       "      <td>Steglitz - Zehlendorf</td>\n",
       "      <td>Drakestr.</td>\n",
       "      <td>52.402144</td>\n",
       "      <td>13.273865</td>\n",
       "      <td>Entire home/apt</td>\n",
       "      <td>120</td>\n",
       "      <td>1</td>\n",
       "      <td>0</td>\n",
       "      <td>NaN</td>\n",
       "      <td>NaN</td>\n",
       "      <td>1</td>\n",
       "      <td>257</td>\n",
       "      <td>0</td>\n",
       "      <td>Available with a mobility lease only (\"bail mo...</td>\n",
       "    </tr>\n",
       "    <tr>\n",
       "      <th>4</th>\n",
       "      <td>37738004</td>\n",
       "      <td>Remise Villa Erica Superior Apartment</td>\n",
       "      <td>42048631</td>\n",
       "      <td>Archibald</td>\n",
       "      <td>Steglitz - Zehlendorf</td>\n",
       "      <td>Drakestr.</td>\n",
       "      <td>52.410150</td>\n",
       "      <td>13.292070</td>\n",
       "      <td>Entire home/apt</td>\n",
       "      <td>110</td>\n",
       "      <td>5</td>\n",
       "      <td>1</td>\n",
       "      <td>2019-10-26</td>\n",
       "      <td>0.03</td>\n",
       "      <td>8</td>\n",
       "      <td>160</td>\n",
       "      <td>0</td>\n",
       "      <td>NaN</td>\n",
       "    </tr>\n",
       "    <tr>\n",
       "      <th>5</th>\n",
       "      <td>3176</td>\n",
       "      <td>Fabulous Flat in great Location</td>\n",
       "      <td>3718</td>\n",
       "      <td>Britta</td>\n",
       "      <td>Pankow</td>\n",
       "      <td>Prenzlauer Berg Südwest</td>\n",
       "      <td>52.534710</td>\n",
       "      <td>13.418100</td>\n",
       "      <td>Entire home/apt</td>\n",
       "      <td>150</td>\n",
       "      <td>92</td>\n",
       "      <td>147</td>\n",
       "      <td>2021-01-01</td>\n",
       "      <td>0.91</td>\n",
       "      <td>1</td>\n",
       "      <td>350</td>\n",
       "      <td>0</td>\n",
       "      <td>NaN</td>\n",
       "    </tr>\n",
       "    <tr>\n",
       "      <th>6</th>\n",
       "      <td>2019132</td>\n",
       "      <td>Villa am Berliner Stadtrand für bis zu 24 Gäste</td>\n",
       "      <td>10287456</td>\n",
       "      <td>Jens</td>\n",
       "      <td>Treptow - Köpenick</td>\n",
       "      <td>Rahnsdorf/Hessenwinkel</td>\n",
       "      <td>52.457260</td>\n",
       "      <td>13.720840</td>\n",
       "      <td>Entire home/apt</td>\n",
       "      <td>390</td>\n",
       "      <td>3</td>\n",
       "      <td>52</td>\n",
       "      <td>2021-12-11</td>\n",
       "      <td>0.50</td>\n",
       "      <td>2</td>\n",
       "      <td>0</td>\n",
       "      <td>1</td>\n",
       "      <td>NaN</td>\n",
       "    </tr>\n",
       "    <tr>\n",
       "      <th>7</th>\n",
       "      <td>3309</td>\n",
       "      <td>BerlinSpot Schöneberg near KaDeWe</td>\n",
       "      <td>4108</td>\n",
       "      <td>Jana</td>\n",
       "      <td>Tempelhof - Schöneberg</td>\n",
       "      <td>Schöneberg-Nord</td>\n",
       "      <td>52.498840</td>\n",
       "      <td>13.349400</td>\n",
       "      <td>Private room</td>\n",
       "      <td>29</td>\n",
       "      <td>7</td>\n",
       "      <td>27</td>\n",
       "      <td>2019-05-31</td>\n",
       "      <td>0.24</td>\n",
       "      <td>1</td>\n",
       "      <td>257</td>\n",
       "      <td>0</td>\n",
       "      <td>NaN</td>\n",
       "    </tr>\n",
       "    <tr>\n",
       "      <th>8</th>\n",
       "      <td>32573899</td>\n",
       "      <td>Modern House in Berlin/Teltow-Seehof</td>\n",
       "      <td>9376474</td>\n",
       "      <td>Maria &amp; Thomas</td>\n",
       "      <td>Steglitz - Zehlendorf</td>\n",
       "      <td>Drakestr.</td>\n",
       "      <td>52.405620</td>\n",
       "      <td>13.284310</td>\n",
       "      <td>Entire home/apt</td>\n",
       "      <td>300</td>\n",
       "      <td>3</td>\n",
       "      <td>8</td>\n",
       "      <td>2022-01-02</td>\n",
       "      <td>0.22</td>\n",
       "      <td>1</td>\n",
       "      <td>0</td>\n",
       "      <td>3</td>\n",
       "      <td>NaN</td>\n",
       "    </tr>\n",
       "    <tr>\n",
       "      <th>9</th>\n",
       "      <td>7071</td>\n",
       "      <td>BrightRoom with sunny greenview!</td>\n",
       "      <td>17391</td>\n",
       "      <td>BrightRoom</td>\n",
       "      <td>Pankow</td>\n",
       "      <td>Helmholtzplatz</td>\n",
       "      <td>52.543010</td>\n",
       "      <td>13.415340</td>\n",
       "      <td>Private room</td>\n",
       "      <td>33</td>\n",
       "      <td>1</td>\n",
       "      <td>293</td>\n",
       "      <td>2020-03-31</td>\n",
       "      <td>1.84</td>\n",
       "      <td>1</td>\n",
       "      <td>0</td>\n",
       "      <td>0</td>\n",
       "      <td>NaN</td>\n",
       "    </tr>\n",
       "  </tbody>\n",
       "</table>\n",
       "</div>"
      ],
      "text/plain": [
       "                   id                                               name  \\\n",
       "0  652868795892201022  Kleine Auszeit? Oder Business-Trip? Alles mögl...   \n",
       "1            27080612  Apartment with Living/Sleeping Room & own Kitchen   \n",
       "2            29077694             Wohnung im Grünen nah an der Metropole   \n",
       "3  665648367391379321                 Schöne Eigentumswohnung mit Balkon   \n",
       "4            37738004              Remise Villa Erica Superior Apartment   \n",
       "5                3176                    Fabulous Flat in great Location   \n",
       "6             2019132    Villa am Berliner Stadtrand für bis zu 24 Gäste   \n",
       "7                3309                  BerlinSpot Schöneberg near KaDeWe   \n",
       "8            32573899               Modern House in Berlin/Teltow-Seehof   \n",
       "9                7071                   BrightRoom with sunny greenview!   \n",
       "\n",
       "     host_id       host_name     neighbourhood_group            neighbourhood  \\\n",
       "0   21708794     Familie Sek  Tempelhof - Schöneberg              Lichtenrade   \n",
       "1  130216168           Tommy   Marzahn - Hellersdorf                Mahlsdorf   \n",
       "2  219116245         Tilmann   Steglitz - Zehlendorf      Zehlendorf  Südwest   \n",
       "3  106965422            Paul   Steglitz - Zehlendorf                Drakestr.   \n",
       "4   42048631       Archibald   Steglitz - Zehlendorf                Drakestr.   \n",
       "5       3718          Britta                  Pankow  Prenzlauer Berg Südwest   \n",
       "6   10287456            Jens      Treptow - Köpenick   Rahnsdorf/Hessenwinkel   \n",
       "7       4108            Jana  Tempelhof - Schöneberg          Schöneberg-Nord   \n",
       "8    9376474  Maria & Thomas   Steglitz - Zehlendorf                Drakestr.   \n",
       "9      17391      BrightRoom                  Pankow           Helmholtzplatz   \n",
       "\n",
       "    latitude  longitude        room_type  price  minimum_nights  \\\n",
       "0  52.357652  13.399098  Entire home/apt     88               1   \n",
       "1  52.520060  13.659560  Entire home/apt     60               2   \n",
       "2  52.412320  13.207150  Entire home/apt     36               8   \n",
       "3  52.402144  13.273865  Entire home/apt    120               1   \n",
       "4  52.410150  13.292070  Entire home/apt    110               5   \n",
       "5  52.534710  13.418100  Entire home/apt    150              92   \n",
       "6  52.457260  13.720840  Entire home/apt    390               3   \n",
       "7  52.498840  13.349400     Private room     29               7   \n",
       "8  52.405620  13.284310  Entire home/apt    300               3   \n",
       "9  52.543010  13.415340     Private room     33               1   \n",
       "\n",
       "   number_of_reviews last_review  reviews_per_month  \\\n",
       "0                  0         NaN                NaN   \n",
       "1                126  2022-09-11               2.54   \n",
       "2                 29  2022-05-29               0.63   \n",
       "3                  0         NaN                NaN   \n",
       "4                  1  2019-10-26               0.03   \n",
       "5                147  2021-01-01               0.91   \n",
       "6                 52  2021-12-11               0.50   \n",
       "7                 27  2019-05-31               0.24   \n",
       "8                  8  2022-01-02               0.22   \n",
       "9                293  2020-03-31               1.84   \n",
       "\n",
       "   calculated_host_listings_count  availability_365  number_of_reviews_ltm  \\\n",
       "0                               1                 6                      0   \n",
       "1                               2               163                     18   \n",
       "2                               1                 6                      6   \n",
       "3                               1               257                      0   \n",
       "4                               8               160                      0   \n",
       "5                               1               350                      0   \n",
       "6                               2                 0                      1   \n",
       "7                               1               257                      0   \n",
       "8                               1                 0                      3   \n",
       "9                               1                 0                      0   \n",
       "\n",
       "                                             license  \n",
       "0                                                NaN  \n",
       "1                                                NaN  \n",
       "2                                                NaN  \n",
       "3  Available with a mobility lease only (\"bail mo...  \n",
       "4                                                NaN  \n",
       "5                                                NaN  \n",
       "6                                                NaN  \n",
       "7                                                NaN  \n",
       "8                                                NaN  \n",
       "9                                                NaN  "
      ]
     },
     "execution_count": 6,
     "metadata": {},
     "output_type": "execute_result"
    }
   ],
   "source": [
    "airbnb.head(10)"
   ]
  },
  {
   "cell_type": "code",
   "execution_count": 8,
   "id": "9428d98c",
   "metadata": {
    "colab": {
     "base_uri": "https://localhost:8080/",
     "height": 757
    },
    "executionInfo": {
     "elapsed": 287,
     "status": "ok",
     "timestamp": 1666875732189,
     "user": {
      "displayName": "Harm Alhusen",
      "userId": "15195264760330107310"
     },
     "user_tz": -120
    },
    "id": "9428d98c",
    "outputId": "26e6117b-61d2-438b-afba-51da1ed9bbdd"
   },
   "outputs": [
    {
     "data": {
      "text/html": [
       "<div>\n",
       "<style scoped>\n",
       "    .dataframe tbody tr th:only-of-type {\n",
       "        vertical-align: middle;\n",
       "    }\n",
       "\n",
       "    .dataframe tbody tr th {\n",
       "        vertical-align: top;\n",
       "    }\n",
       "\n",
       "    .dataframe thead th {\n",
       "        text-align: right;\n",
       "    }\n",
       "</style>\n",
       "<table border=\"1\" class=\"dataframe\">\n",
       "  <thead>\n",
       "    <tr style=\"text-align: right;\">\n",
       "      <th></th>\n",
       "      <th>id</th>\n",
       "      <th>name</th>\n",
       "      <th>host_id</th>\n",
       "      <th>host_name</th>\n",
       "      <th>neighbourhood_group</th>\n",
       "      <th>neighbourhood</th>\n",
       "      <th>latitude</th>\n",
       "      <th>longitude</th>\n",
       "      <th>room_type</th>\n",
       "      <th>price</th>\n",
       "      <th>minimum_nights</th>\n",
       "      <th>number_of_reviews</th>\n",
       "      <th>last_review</th>\n",
       "      <th>reviews_per_month</th>\n",
       "      <th>calculated_host_listings_count</th>\n",
       "      <th>availability_365</th>\n",
       "      <th>number_of_reviews_ltm</th>\n",
       "      <th>license</th>\n",
       "    </tr>\n",
       "  </thead>\n",
       "  <tbody>\n",
       "    <tr>\n",
       "      <th>16675</th>\n",
       "      <td>2650812</td>\n",
       "      <td>Gäste-Zimmer   ALEXA   2</td>\n",
       "      <td>13569320</td>\n",
       "      <td>Karl</td>\n",
       "      <td>Treptow - Köpenick</td>\n",
       "      <td>Rahnsdorf/Hessenwinkel</td>\n",
       "      <td>52.45776</td>\n",
       "      <td>13.72540</td>\n",
       "      <td>Private room</td>\n",
       "      <td>99</td>\n",
       "      <td>1</td>\n",
       "      <td>0</td>\n",
       "      <td>NaN</td>\n",
       "      <td>NaN</td>\n",
       "      <td>4</td>\n",
       "      <td>351</td>\n",
       "      <td>0</td>\n",
       "      <td>NaN</td>\n",
       "    </tr>\n",
       "    <tr>\n",
       "      <th>16676</th>\n",
       "      <td>39853201</td>\n",
       "      <td>3-Zi-Wohnung am  Dämeritzsee, Berlin, Brandenburg</td>\n",
       "      <td>89818386</td>\n",
       "      <td>Hanne</td>\n",
       "      <td>Treptow - Köpenick</td>\n",
       "      <td>Müggelheim</td>\n",
       "      <td>52.41807</td>\n",
       "      <td>13.74173</td>\n",
       "      <td>Entire home/apt</td>\n",
       "      <td>160</td>\n",
       "      <td>4</td>\n",
       "      <td>23</td>\n",
       "      <td>2022-08-11</td>\n",
       "      <td>0.87</td>\n",
       "      <td>1</td>\n",
       "      <td>148</td>\n",
       "      <td>12</td>\n",
       "      <td>NaN</td>\n",
       "    </tr>\n",
       "    <tr>\n",
       "      <th>16677</th>\n",
       "      <td>2855881</td>\n",
       "      <td>Gäste-Zimmer  ALEXA  4</td>\n",
       "      <td>13569320</td>\n",
       "      <td>Karl</td>\n",
       "      <td>Treptow - Köpenick</td>\n",
       "      <td>Rahnsdorf/Hessenwinkel</td>\n",
       "      <td>52.45965</td>\n",
       "      <td>13.72548</td>\n",
       "      <td>Private room</td>\n",
       "      <td>195</td>\n",
       "      <td>1</td>\n",
       "      <td>0</td>\n",
       "      <td>NaN</td>\n",
       "      <td>NaN</td>\n",
       "      <td>4</td>\n",
       "      <td>336</td>\n",
       "      <td>0</td>\n",
       "      <td>NaN</td>\n",
       "    </tr>\n",
       "    <tr>\n",
       "      <th>16678</th>\n",
       "      <td>46313178</td>\n",
       "      <td>TESLA / Grünheide Wohnung hochwertig möbliert</td>\n",
       "      <td>87267772</td>\n",
       "      <td>Florian</td>\n",
       "      <td>Treptow - Köpenick</td>\n",
       "      <td>Rahnsdorf/Hessenwinkel</td>\n",
       "      <td>52.46061</td>\n",
       "      <td>13.69917</td>\n",
       "      <td>Entire home/apt</td>\n",
       "      <td>60</td>\n",
       "      <td>90</td>\n",
       "      <td>0</td>\n",
       "      <td>NaN</td>\n",
       "      <td>NaN</td>\n",
       "      <td>1</td>\n",
       "      <td>288</td>\n",
       "      <td>0</td>\n",
       "      <td>NaN</td>\n",
       "    </tr>\n",
       "    <tr>\n",
       "      <th>16679</th>\n",
       "      <td>602778194698740348</td>\n",
       "      <td>Moderne Souterrainwohnung mit großer Terrasse</td>\n",
       "      <td>185432505</td>\n",
       "      <td>Friedrich</td>\n",
       "      <td>Treptow - Köpenick</td>\n",
       "      <td>Rahnsdorf/Hessenwinkel</td>\n",
       "      <td>52.45520</td>\n",
       "      <td>13.75608</td>\n",
       "      <td>Entire home/apt</td>\n",
       "      <td>60</td>\n",
       "      <td>1</td>\n",
       "      <td>0</td>\n",
       "      <td>NaN</td>\n",
       "      <td>NaN</td>\n",
       "      <td>1</td>\n",
       "      <td>75</td>\n",
       "      <td>0</td>\n",
       "      <td>NaN</td>\n",
       "    </tr>\n",
       "  </tbody>\n",
       "</table>\n",
       "</div>"
      ],
      "text/plain": [
       "                       id                                               name  \\\n",
       "16675             2650812                           Gäste-Zimmer   ALEXA   2   \n",
       "16676            39853201  3-Zi-Wohnung am  Dämeritzsee, Berlin, Brandenburg   \n",
       "16677             2855881                             Gäste-Zimmer  ALEXA  4   \n",
       "16678            46313178      TESLA / Grünheide Wohnung hochwertig möbliert   \n",
       "16679  602778194698740348      Moderne Souterrainwohnung mit großer Terrasse   \n",
       "\n",
       "         host_id  host_name neighbourhood_group           neighbourhood  \\\n",
       "16675   13569320       Karl  Treptow - Köpenick  Rahnsdorf/Hessenwinkel   \n",
       "16676   89818386      Hanne  Treptow - Köpenick              Müggelheim   \n",
       "16677   13569320       Karl  Treptow - Köpenick  Rahnsdorf/Hessenwinkel   \n",
       "16678   87267772    Florian  Treptow - Köpenick  Rahnsdorf/Hessenwinkel   \n",
       "16679  185432505  Friedrich  Treptow - Köpenick  Rahnsdorf/Hessenwinkel   \n",
       "\n",
       "       latitude  longitude        room_type  price  minimum_nights  \\\n",
       "16675  52.45776   13.72540     Private room     99               1   \n",
       "16676  52.41807   13.74173  Entire home/apt    160               4   \n",
       "16677  52.45965   13.72548     Private room    195               1   \n",
       "16678  52.46061   13.69917  Entire home/apt     60              90   \n",
       "16679  52.45520   13.75608  Entire home/apt     60               1   \n",
       "\n",
       "       number_of_reviews last_review  reviews_per_month  \\\n",
       "16675                  0         NaN                NaN   \n",
       "16676                 23  2022-08-11               0.87   \n",
       "16677                  0         NaN                NaN   \n",
       "16678                  0         NaN                NaN   \n",
       "16679                  0         NaN                NaN   \n",
       "\n",
       "       calculated_host_listings_count  availability_365  \\\n",
       "16675                               4               351   \n",
       "16676                               1               148   \n",
       "16677                               4               336   \n",
       "16678                               1               288   \n",
       "16679                               1                75   \n",
       "\n",
       "       number_of_reviews_ltm license  \n",
       "16675                      0     NaN  \n",
       "16676                     12     NaN  \n",
       "16677                      0     NaN  \n",
       "16678                      0     NaN  \n",
       "16679                      0     NaN  "
      ]
     },
     "execution_count": 8,
     "metadata": {},
     "output_type": "execute_result"
    }
   ],
   "source": [
    "airbnb.tail(5)"
   ]
  },
  {
   "cell_type": "markdown",
   "id": "lCPnvxOTi0e3",
   "metadata": {
    "id": "lCPnvxOTi0e3"
   },
   "source": [
    "Zusätzlich können wir uns auch die Datentypen der einzelnen Spalten anzeigen lassen:"
   ]
  },
  {
   "cell_type": "code",
   "execution_count": 9,
   "id": "PvCnfpTbi5lV",
   "metadata": {
    "colab": {
     "base_uri": "https://localhost:8080/"
    },
    "executionInfo": {
     "elapsed": 311,
     "status": "ok",
     "timestamp": 1666875774816,
     "user": {
      "displayName": "Harm Alhusen",
      "userId": "15195264760330107310"
     },
     "user_tz": -120
    },
    "id": "PvCnfpTbi5lV",
    "outputId": "7cc9ff9a-e0a5-4f90-d712-0f4214cdc9b9"
   },
   "outputs": [
    {
     "data": {
      "text/plain": [
       "id                                  int64\n",
       "name                               object\n",
       "host_id                             int64\n",
       "host_name                          object\n",
       "neighbourhood_group                object\n",
       "neighbourhood                      object\n",
       "latitude                          float64\n",
       "longitude                         float64\n",
       "room_type                          object\n",
       "price                               int64\n",
       "minimum_nights                      int64\n",
       "number_of_reviews                   int64\n",
       "last_review                        object\n",
       "reviews_per_month                 float64\n",
       "calculated_host_listings_count      int64\n",
       "availability_365                    int64\n",
       "number_of_reviews_ltm               int64\n",
       "license                            object\n",
       "dtype: object"
      ]
     },
     "execution_count": 9,
     "metadata": {},
     "output_type": "execute_result"
    }
   ],
   "source": [
    "airbnb.dtypes"
   ]
  },
  {
   "cell_type": "markdown",
   "id": "ced71194",
   "metadata": {
    "id": "ced71194"
   },
   "source": [
    "Die erste Analyse des AirBnB-Datensatzes für Berlin zeigt uns, dass viele Features/Spalten/Variablen wie z.B. last_review und reviews_per_month fehlende Werte haben. Diese werden durch den Wert NaN angezeigt. Die Bereinigung von Datensätzen ist nicht Teil dieses Kurses, ein kurzer Überblick schadet jedoch nicht."
   ]
  },
  {
   "cell_type": "code",
   "execution_count": 10,
   "id": "faf03347",
   "metadata": {
    "colab": {
     "base_uri": "https://localhost:8080/"
    },
    "executionInfo": {
     "elapsed": 314,
     "status": "ok",
     "timestamp": 1666875939694,
     "user": {
      "displayName": "Harm Alhusen",
      "userId": "15195264760330107310"
     },
     "user_tz": -120
    },
    "id": "faf03347",
    "outputId": "9442f7f9-feb6-46fa-dd62-54bbac400291"
   },
   "outputs": [
    {
     "data": {
      "text/plain": [
       "id                                    0\n",
       "name                                 20\n",
       "host_id                               0\n",
       "host_name                            16\n",
       "neighbourhood_group                   0\n",
       "neighbourhood                         0\n",
       "latitude                              0\n",
       "longitude                             0\n",
       "room_type                             0\n",
       "price                                 0\n",
       "minimum_nights                        0\n",
       "number_of_reviews                     0\n",
       "last_review                        2868\n",
       "reviews_per_month                  2868\n",
       "calculated_host_listings_count        0\n",
       "availability_365                      0\n",
       "number_of_reviews_ltm                 0\n",
       "license                           11048\n",
       "dtype: int64"
      ]
     },
     "execution_count": 10,
     "metadata": {},
     "output_type": "execute_result"
    }
   ],
   "source": [
    "airbnb.isnull().sum()"
   ]
  },
  {
   "cell_type": "markdown",
   "id": "fecc733d",
   "metadata": {
    "id": "fecc733d"
   },
   "source": [
    "Wir sehen oben, dass die meisten Spalten keine fehlenden Daten haben. Lediglich die Spalten/features 'name', 'host_id', 'last_review', 'reviews_per_month' und 'license' zeigen fehlende Werte auf.\n",
    "\n",
    "Wie bereits oben besprochen gleicht ihr DataFrame dem Aufbau einer Excel-Liste. Sie können in ihrem DataFrame einzelne Spalten herausgreifen bwz. auswählen um diese zu analysieren. In diesem Beispiel schauen wir uns die Spalte 'name' an, welche uns die Bezeichnung der Airbnb-Wohnungen in Berlin anzeigt:"
   ]
  },
  {
   "cell_type": "code",
   "execution_count": 11,
   "id": "a9778dc2",
   "metadata": {
    "colab": {
     "base_uri": "https://localhost:8080/"
    },
    "executionInfo": {
     "elapsed": 555,
     "status": "ok",
     "timestamp": 1666876174000,
     "user": {
      "displayName": "Harm Alhusen",
      "userId": "15195264760330107310"
     },
     "user_tz": -120
    },
    "id": "a9778dc2",
    "outputId": "1f114c0d-1c3a-4a6a-ead4-47e31c095204"
   },
   "outputs": [
    {
     "data": {
      "text/plain": [
       "0        Kleine Auszeit? Oder Business-Trip? Alles mögl...\n",
       "1        Apartment with Living/Sleeping Room & own Kitchen\n",
       "2                   Wohnung im Grünen nah an der Metropole\n",
       "3                       Schöne Eigentumswohnung mit Balkon\n",
       "4                    Remise Villa Erica Superior Apartment\n",
       "                               ...                        \n",
       "16675                             Gäste-Zimmer   ALEXA   2\n",
       "16676    3-Zi-Wohnung am  Dämeritzsee, Berlin, Brandenburg\n",
       "16677                               Gäste-Zimmer  ALEXA  4\n",
       "16678        TESLA / Grünheide Wohnung hochwertig möbliert\n",
       "16679        Moderne Souterrainwohnung mit großer Terrasse\n",
       "Name: name, Length: 16680, dtype: object"
      ]
     },
     "execution_count": 11,
     "metadata": {},
     "output_type": "execute_result"
    }
   ],
   "source": [
    "airbnb['name']"
   ]
  },
  {
   "cell_type": "code",
   "execution_count": 12,
   "id": "HUk99MfWkdYj",
   "metadata": {
    "colab": {
     "base_uri": "https://localhost:8080/"
    },
    "executionInfo": {
     "elapsed": 305,
     "status": "ok",
     "timestamp": 1666876315854,
     "user": {
      "displayName": "Harm Alhusen",
      "userId": "15195264760330107310"
     },
     "user_tz": -120
    },
    "id": "HUk99MfWkdYj",
    "outputId": "e7e4b483-ad44-4adc-8d34-e4117e893269"
   },
   "outputs": [
    {
     "data": {
      "text/plain": [
       "0        Tempelhof - Schöneberg\n",
       "1         Marzahn - Hellersdorf\n",
       "2         Steglitz - Zehlendorf\n",
       "3         Steglitz - Zehlendorf\n",
       "4         Steglitz - Zehlendorf\n",
       "                  ...          \n",
       "16675        Treptow - Köpenick\n",
       "16676        Treptow - Köpenick\n",
       "16677        Treptow - Köpenick\n",
       "16678        Treptow - Köpenick\n",
       "16679        Treptow - Köpenick\n",
       "Name: neighbourhood_group, Length: 16680, dtype: object"
      ]
     },
     "execution_count": 12,
     "metadata": {},
     "output_type": "execute_result"
    }
   ],
   "source": [
    "airbnb['neighbourhood_group']"
   ]
  },
  {
   "cell_type": "markdown",
   "id": "5ab0aefc",
   "metadata": {
    "id": "5ab0aefc"
   },
   "source": [
    "Zur weiteren Bearbeitung empfiehlt es sich, die jeweiligen Spalten (features) als Variable zu definieren, indem man diese mit einem bestimmten Buchstaben gleichsetzt. In diesem Beispiel lassen wir uns den Namen des Gastgebers und seinen Wohnbezirk angeben:"
   ]
  },
  {
   "cell_type": "code",
   "execution_count": 13,
   "id": "6c24f1f0",
   "metadata": {
    "colab": {
     "base_uri": "https://localhost:8080/",
     "height": 217
    },
    "executionInfo": {
     "elapsed": 276,
     "status": "ok",
     "timestamp": 1666876411796,
     "user": {
      "displayName": "Harm Alhusen",
      "userId": "15195264760330107310"
     },
     "user_tz": -120
    },
    "id": "6c24f1f0",
    "outputId": "49feeddb-6a77-4123-9aeb-b273732729e2"
   },
   "outputs": [
    {
     "data": {
      "text/html": [
       "<div>\n",
       "<style scoped>\n",
       "    .dataframe tbody tr th:only-of-type {\n",
       "        vertical-align: middle;\n",
       "    }\n",
       "\n",
       "    .dataframe tbody tr th {\n",
       "        vertical-align: top;\n",
       "    }\n",
       "\n",
       "    .dataframe thead th {\n",
       "        text-align: right;\n",
       "    }\n",
       "</style>\n",
       "<table border=\"1\" class=\"dataframe\">\n",
       "  <thead>\n",
       "    <tr style=\"text-align: right;\">\n",
       "      <th></th>\n",
       "      <th>host_name</th>\n",
       "      <th>neighbourhood_group</th>\n",
       "    </tr>\n",
       "  </thead>\n",
       "  <tbody>\n",
       "    <tr>\n",
       "      <th>0</th>\n",
       "      <td>Familie Sek</td>\n",
       "      <td>Tempelhof - Schöneberg</td>\n",
       "    </tr>\n",
       "    <tr>\n",
       "      <th>1</th>\n",
       "      <td>Tommy</td>\n",
       "      <td>Marzahn - Hellersdorf</td>\n",
       "    </tr>\n",
       "    <tr>\n",
       "      <th>2</th>\n",
       "      <td>Tilmann</td>\n",
       "      <td>Steglitz - Zehlendorf</td>\n",
       "    </tr>\n",
       "    <tr>\n",
       "      <th>3</th>\n",
       "      <td>Paul</td>\n",
       "      <td>Steglitz - Zehlendorf</td>\n",
       "    </tr>\n",
       "    <tr>\n",
       "      <th>4</th>\n",
       "      <td>Archibald</td>\n",
       "      <td>Steglitz - Zehlendorf</td>\n",
       "    </tr>\n",
       "  </tbody>\n",
       "</table>\n",
       "</div>"
      ],
      "text/plain": [
       "     host_name     neighbourhood_group\n",
       "0  Familie Sek  Tempelhof - Schöneberg\n",
       "1        Tommy   Marzahn - Hellersdorf\n",
       "2      Tilmann   Steglitz - Zehlendorf\n",
       "3         Paul   Steglitz - Zehlendorf\n",
       "4    Archibald   Steglitz - Zehlendorf"
      ]
     },
     "execution_count": 13,
     "metadata": {},
     "output_type": "execute_result"
    }
   ],
   "source": [
    "hosts = airbnb[['host_name', 'neighbourhood_group']]\n",
    "hosts.head()"
   ]
  },
  {
   "cell_type": "markdown",
   "id": "864ce94d",
   "metadata": {
    "id": "864ce94d"
   },
   "source": [
    "Zur deskriptiven Auswertung des Datensatzes fokusieren wir uns jetzt auf diejenigen Spalten, welche sich numerisch auswerten lassen. Als erstes lassen wir uns den durchschnittlichen Preis und den Median einer Airbnb-Wohnung in Berlin anzeigen. "
   ]
  },
  {
   "cell_type": "code",
   "execution_count": 14,
   "id": "ba7d0f82",
   "metadata": {
    "colab": {
     "base_uri": "https://localhost:8080/"
    },
    "executionInfo": {
     "elapsed": 5,
     "status": "ok",
     "timestamp": 1666876549089,
     "user": {
      "displayName": "Harm Alhusen",
      "userId": "15195264760330107310"
     },
     "user_tz": -120
    },
    "id": "ba7d0f82",
    "outputId": "f249d518-20d9-44cb-a55e-7af6aa810554"
   },
   "outputs": [
    {
     "data": {
      "text/plain": [
       "96.30809352517986"
      ]
     },
     "execution_count": 14,
     "metadata": {},
     "output_type": "execute_result"
    }
   ],
   "source": [
    "airbnb['price'].mean()"
   ]
  },
  {
   "cell_type": "code",
   "execution_count": 15,
   "id": "d09ff8d0",
   "metadata": {
    "colab": {
     "base_uri": "https://localhost:8080/"
    },
    "executionInfo": {
     "elapsed": 303,
     "status": "ok",
     "timestamp": 1666876629757,
     "user": {
      "displayName": "Harm Alhusen",
      "userId": "15195264760330107310"
     },
     "user_tz": -120
    },
    "id": "d09ff8d0",
    "outputId": "677c3b0b-692d-4cfe-c916-dde648711ca7"
   },
   "outputs": [
    {
     "data": {
      "text/plain": [
       "65.0"
      ]
     },
     "execution_count": 15,
     "metadata": {},
     "output_type": "execute_result"
    }
   ],
   "source": [
    "airbnb['price'].median()"
   ]
  },
  {
   "cell_type": "markdown",
   "id": "dbac96e8",
   "metadata": {
    "id": "dbac96e8"
   },
   "source": [
    "Diese Analyse zeigt uns, dass der Mittelwert größer ist als der Median. Dies bedeutet, dass viele Wohnungen relativ günstig sind, es aber eine gewisse Anzahl an Wohnungen gibt, welche teuer sind und damit den Mittelwert nach oben treiben. \n",
    "Versuchen wir, diese Intuition zu bestätigen, indem wir uns 'price' als density plot (Dichte-Diagramm) anzeigen lassen. "
   ]
  },
  {
   "cell_type": "markdown",
   "id": "Z5WFUWhwzj2Y",
   "metadata": {
    "id": "Z5WFUWhwzj2Y"
   },
   "source": [
    "Um sich einen Überblick über den gesamten Datensatz zu verschaffen und uns zentrale Auswertungsqerte anzeigen zu lassen können wir auch die \".describe()\" Funktion verwenden:"
   ]
  },
  {
   "cell_type": "code",
   "execution_count": 16,
   "id": "EdcCMSkqz2pL",
   "metadata": {
    "colab": {
     "base_uri": "https://localhost:8080/",
     "height": 364
    },
    "executionInfo": {
     "elapsed": 829,
     "status": "ok",
     "timestamp": 1666876681465,
     "user": {
      "displayName": "Harm Alhusen",
      "userId": "15195264760330107310"
     },
     "user_tz": -120
    },
    "id": "EdcCMSkqz2pL",
    "outputId": "7e8bff5a-0460-4e6d-d0cf-89c336570c95"
   },
   "outputs": [
    {
     "data": {
      "text/html": [
       "<div>\n",
       "<style scoped>\n",
       "    .dataframe tbody tr th:only-of-type {\n",
       "        vertical-align: middle;\n",
       "    }\n",
       "\n",
       "    .dataframe tbody tr th {\n",
       "        vertical-align: top;\n",
       "    }\n",
       "\n",
       "    .dataframe thead th {\n",
       "        text-align: right;\n",
       "    }\n",
       "</style>\n",
       "<table border=\"1\" class=\"dataframe\">\n",
       "  <thead>\n",
       "    <tr style=\"text-align: right;\">\n",
       "      <th></th>\n",
       "      <th>id</th>\n",
       "      <th>host_id</th>\n",
       "      <th>latitude</th>\n",
       "      <th>longitude</th>\n",
       "      <th>price</th>\n",
       "      <th>minimum_nights</th>\n",
       "      <th>number_of_reviews</th>\n",
       "      <th>reviews_per_month</th>\n",
       "      <th>calculated_host_listings_count</th>\n",
       "      <th>availability_365</th>\n",
       "      <th>number_of_reviews_ltm</th>\n",
       "    </tr>\n",
       "  </thead>\n",
       "  <tbody>\n",
       "    <tr>\n",
       "      <th>count</th>\n",
       "      <td>1.668000e+04</td>\n",
       "      <td>1.668000e+04</td>\n",
       "      <td>16680.000000</td>\n",
       "      <td>16680.000000</td>\n",
       "      <td>16680.000000</td>\n",
       "      <td>16680.000000</td>\n",
       "      <td>16680.000000</td>\n",
       "      <td>13812.000000</td>\n",
       "      <td>16680.000000</td>\n",
       "      <td>16680.000000</td>\n",
       "      <td>16680.000000</td>\n",
       "    </tr>\n",
       "    <tr>\n",
       "      <th>mean</th>\n",
       "      <td>5.324879e+16</td>\n",
       "      <td>1.062732e+08</td>\n",
       "      <td>52.509265</td>\n",
       "      <td>13.404151</td>\n",
       "      <td>96.308094</td>\n",
       "      <td>12.115588</td>\n",
       "      <td>27.767866</td>\n",
       "      <td>0.860941</td>\n",
       "      <td>3.394245</td>\n",
       "      <td>86.398621</td>\n",
       "      <td>6.658453</td>\n",
       "    </tr>\n",
       "    <tr>\n",
       "      <th>std</th>\n",
       "      <td>1.768728e+17</td>\n",
       "      <td>1.251192e+08</td>\n",
       "      <td>0.036103</td>\n",
       "      <td>0.071314</td>\n",
       "      <td>116.785567</td>\n",
       "      <td>39.121038</td>\n",
       "      <td>62.300967</td>\n",
       "      <td>1.662307</td>\n",
       "      <td>7.768109</td>\n",
       "      <td>123.095870</td>\n",
       "      <td>19.731262</td>\n",
       "    </tr>\n",
       "    <tr>\n",
       "      <th>min</th>\n",
       "      <td>3.176000e+03</td>\n",
       "      <td>1.581000e+03</td>\n",
       "      <td>52.332300</td>\n",
       "      <td>13.072850</td>\n",
       "      <td>0.000000</td>\n",
       "      <td>1.000000</td>\n",
       "      <td>0.000000</td>\n",
       "      <td>0.010000</td>\n",
       "      <td>1.000000</td>\n",
       "      <td>0.000000</td>\n",
       "      <td>0.000000</td>\n",
       "    </tr>\n",
       "    <tr>\n",
       "      <th>25%</th>\n",
       "      <td>1.341363e+07</td>\n",
       "      <td>1.309205e+07</td>\n",
       "      <td>52.489050</td>\n",
       "      <td>13.365737</td>\n",
       "      <td>40.000000</td>\n",
       "      <td>2.000000</td>\n",
       "      <td>1.000000</td>\n",
       "      <td>0.080000</td>\n",
       "      <td>1.000000</td>\n",
       "      <td>0.000000</td>\n",
       "      <td>0.000000</td>\n",
       "    </tr>\n",
       "    <tr>\n",
       "      <th>50%</th>\n",
       "      <td>2.625762e+07</td>\n",
       "      <td>4.700227e+07</td>\n",
       "      <td>52.509575</td>\n",
       "      <td>13.414495</td>\n",
       "      <td>65.000000</td>\n",
       "      <td>3.000000</td>\n",
       "      <td>6.000000</td>\n",
       "      <td>0.280000</td>\n",
       "      <td>1.000000</td>\n",
       "      <td>0.000000</td>\n",
       "      <td>0.000000</td>\n",
       "    </tr>\n",
       "    <tr>\n",
       "      <th>75%</th>\n",
       "      <td>4.242915e+07</td>\n",
       "      <td>1.622314e+08</td>\n",
       "      <td>52.532913</td>\n",
       "      <td>13.439420</td>\n",
       "      <td>110.000000</td>\n",
       "      <td>5.000000</td>\n",
       "      <td>22.000000</td>\n",
       "      <td>1.020000</td>\n",
       "      <td>2.000000</td>\n",
       "      <td>167.000000</td>\n",
       "      <td>6.000000</td>\n",
       "    </tr>\n",
       "    <tr>\n",
       "      <th>max</th>\n",
       "      <td>7.155612e+17</td>\n",
       "      <td>4.792028e+08</td>\n",
       "      <td>52.673960</td>\n",
       "      <td>13.769390</td>\n",
       "      <td>4375.000000</td>\n",
       "      <td>1124.000000</td>\n",
       "      <td>1483.000000</td>\n",
       "      <td>81.390000</td>\n",
       "      <td>68.000000</td>\n",
       "      <td>365.000000</td>\n",
       "      <td>961.000000</td>\n",
       "    </tr>\n",
       "  </tbody>\n",
       "</table>\n",
       "</div>"
      ],
      "text/plain": [
       "                 id       host_id      latitude     longitude         price  \\\n",
       "count  1.668000e+04  1.668000e+04  16680.000000  16680.000000  16680.000000   \n",
       "mean   5.324879e+16  1.062732e+08     52.509265     13.404151     96.308094   \n",
       "std    1.768728e+17  1.251192e+08      0.036103      0.071314    116.785567   \n",
       "min    3.176000e+03  1.581000e+03     52.332300     13.072850      0.000000   \n",
       "25%    1.341363e+07  1.309205e+07     52.489050     13.365737     40.000000   \n",
       "50%    2.625762e+07  4.700227e+07     52.509575     13.414495     65.000000   \n",
       "75%    4.242915e+07  1.622314e+08     52.532913     13.439420    110.000000   \n",
       "max    7.155612e+17  4.792028e+08     52.673960     13.769390   4375.000000   \n",
       "\n",
       "       minimum_nights  number_of_reviews  reviews_per_month  \\\n",
       "count    16680.000000       16680.000000       13812.000000   \n",
       "mean        12.115588          27.767866           0.860941   \n",
       "std         39.121038          62.300967           1.662307   \n",
       "min          1.000000           0.000000           0.010000   \n",
       "25%          2.000000           1.000000           0.080000   \n",
       "50%          3.000000           6.000000           0.280000   \n",
       "75%          5.000000          22.000000           1.020000   \n",
       "max       1124.000000        1483.000000          81.390000   \n",
       "\n",
       "       calculated_host_listings_count  availability_365  number_of_reviews_ltm  \n",
       "count                    16680.000000      16680.000000           16680.000000  \n",
       "mean                         3.394245         86.398621               6.658453  \n",
       "std                          7.768109        123.095870              19.731262  \n",
       "min                          1.000000          0.000000               0.000000  \n",
       "25%                          1.000000          0.000000               0.000000  \n",
       "50%                          1.000000          0.000000               0.000000  \n",
       "75%                          2.000000        167.000000               6.000000  \n",
       "max                         68.000000        365.000000             961.000000  "
      ]
     },
     "execution_count": 16,
     "metadata": {},
     "output_type": "execute_result"
    }
   ],
   "source": [
    "airbnb.describe()"
   ]
  },
  {
   "cell_type": "markdown",
   "id": "8O32SfHC0pOW",
   "metadata": {
    "id": "8O32SfHC0pOW"
   },
   "source": [
    "——————————"
   ]
  },
  {
   "cell_type": "markdown",
   "id": "c5f5f66d",
   "metadata": {
    "id": "c5f5f66d"
   },
   "source": [
    "Zur Visualisierung verwenden wir Seaborn, ein package, welche zur Visualisierung in Python geschrieben wurde.\n",
    "Wir importieren matplotlib.pyplot, um uns die Grafik in Jupyter Notebook anzeigen zu lassen."
   ]
  },
  {
   "cell_type": "code",
   "execution_count": 16,
   "id": "8fda3358-08f3-4312-949c-f6eeba720ee1",
   "metadata": {
    "tags": []
   },
   "outputs": [
    {
     "name": "stdout",
     "output_type": "stream",
     "text": [
      "Requirement already satisfied: seaborn in /home/studio-lab-user/.conda/envs/default/lib/python3.9/site-packages (0.12.2)\n",
      "Requirement already satisfied: matplotlib!=3.6.1,>=3.1 in /home/studio-lab-user/.conda/envs/default/lib/python3.9/site-packages (from seaborn) (3.7.3)\n",
      "Requirement already satisfied: numpy!=1.24.0,>=1.17 in /home/studio-lab-user/.conda/envs/default/lib/python3.9/site-packages (from seaborn) (1.25.2)\n",
      "Requirement already satisfied: pandas>=0.25 in /home/studio-lab-user/.conda/envs/default/lib/python3.9/site-packages (from seaborn) (2.0.3)\n",
      "Requirement already satisfied: importlib-resources>=3.2.0 in /home/studio-lab-user/.conda/envs/default/lib/python3.9/site-packages (from matplotlib!=3.6.1,>=3.1->seaborn) (5.12.0)\n",
      "Requirement already satisfied: fonttools>=4.22.0 in /home/studio-lab-user/.conda/envs/default/lib/python3.9/site-packages (from matplotlib!=3.6.1,>=3.1->seaborn) (4.43.1)\n",
      "Requirement already satisfied: packaging>=20.0 in /home/studio-lab-user/.conda/envs/default/lib/python3.9/site-packages (from matplotlib!=3.6.1,>=3.1->seaborn) (23.0)\n",
      "Requirement already satisfied: pillow>=6.2.0 in /home/studio-lab-user/.conda/envs/default/lib/python3.9/site-packages (from matplotlib!=3.6.1,>=3.1->seaborn) (10.1.0)\n",
      "Requirement already satisfied: python-dateutil>=2.7 in /home/studio-lab-user/.conda/envs/default/lib/python3.9/site-packages (from matplotlib!=3.6.1,>=3.1->seaborn) (2.8.2)\n",
      "Requirement already satisfied: cycler>=0.10 in /home/studio-lab-user/.conda/envs/default/lib/python3.9/site-packages (from matplotlib!=3.6.1,>=3.1->seaborn) (0.12.1)\n",
      "Requirement already satisfied: kiwisolver>=1.0.1 in /home/studio-lab-user/.conda/envs/default/lib/python3.9/site-packages (from matplotlib!=3.6.1,>=3.1->seaborn) (1.4.5)\n",
      "Requirement already satisfied: contourpy>=1.0.1 in /home/studio-lab-user/.conda/envs/default/lib/python3.9/site-packages (from matplotlib!=3.6.1,>=3.1->seaborn) (1.1.1)\n",
      "Requirement already satisfied: pyparsing>=2.3.1 in /home/studio-lab-user/.conda/envs/default/lib/python3.9/site-packages (from matplotlib!=3.6.1,>=3.1->seaborn) (3.1.1)\n",
      "Requirement already satisfied: zipp>=3.1.0 in /home/studio-lab-user/.conda/envs/default/lib/python3.9/site-packages (from importlib-resources>=3.2.0->matplotlib!=3.6.1,>=3.1->seaborn) (3.15.0)\n",
      "Requirement already satisfied: pytz>=2020.1 in /home/studio-lab-user/.conda/envs/default/lib/python3.9/site-packages (from pandas>=0.25->seaborn) (2023.3.post1)\n",
      "Requirement already satisfied: tzdata>=2022.1 in /home/studio-lab-user/.conda/envs/default/lib/python3.9/site-packages (from pandas>=0.25->seaborn) (2023.3)\n",
      "Requirement already satisfied: six>=1.5 in /home/studio-lab-user/.conda/envs/default/lib/python3.9/site-packages (from python-dateutil>=2.7->matplotlib!=3.6.1,>=3.1->seaborn) (1.16.0)\n",
      "Note: you may need to restart the kernel to use updated packages.\n"
     ]
    }
   ],
   "source": [
    "pip install seaborn"
   ]
  },
  {
   "cell_type": "code",
   "execution_count": 17,
   "id": "9e700339-3e7a-407c-a40b-2e004708c139",
   "metadata": {
    "tags": []
   },
   "outputs": [
    {
     "name": "stdout",
     "output_type": "stream",
     "text": [
      "Requirement already satisfied: matplotlib in /home/studio-lab-user/.conda/envs/default/lib/python3.9/site-packages (3.7.3)\n",
      "Requirement already satisfied: packaging>=20.0 in /home/studio-lab-user/.conda/envs/default/lib/python3.9/site-packages (from matplotlib) (23.0)\n",
      "Requirement already satisfied: fonttools>=4.22.0 in /home/studio-lab-user/.conda/envs/default/lib/python3.9/site-packages (from matplotlib) (4.43.1)\n",
      "Requirement already satisfied: contourpy>=1.0.1 in /home/studio-lab-user/.conda/envs/default/lib/python3.9/site-packages (from matplotlib) (1.1.1)\n",
      "Requirement already satisfied: pillow>=6.2.0 in /home/studio-lab-user/.conda/envs/default/lib/python3.9/site-packages (from matplotlib) (10.1.0)\n",
      "Requirement already satisfied: pyparsing>=2.3.1 in /home/studio-lab-user/.conda/envs/default/lib/python3.9/site-packages (from matplotlib) (3.1.1)\n",
      "Requirement already satisfied: kiwisolver>=1.0.1 in /home/studio-lab-user/.conda/envs/default/lib/python3.9/site-packages (from matplotlib) (1.4.5)\n",
      "Requirement already satisfied: cycler>=0.10 in /home/studio-lab-user/.conda/envs/default/lib/python3.9/site-packages (from matplotlib) (0.12.1)\n",
      "Requirement already satisfied: numpy<2,>=1.20 in /home/studio-lab-user/.conda/envs/default/lib/python3.9/site-packages (from matplotlib) (1.25.2)\n",
      "Requirement already satisfied: python-dateutil>=2.7 in /home/studio-lab-user/.conda/envs/default/lib/python3.9/site-packages (from matplotlib) (2.8.2)\n",
      "Requirement already satisfied: importlib-resources>=3.2.0 in /home/studio-lab-user/.conda/envs/default/lib/python3.9/site-packages (from matplotlib) (5.12.0)\n",
      "Requirement already satisfied: zipp>=3.1.0 in /home/studio-lab-user/.conda/envs/default/lib/python3.9/site-packages (from importlib-resources>=3.2.0->matplotlib) (3.15.0)\n",
      "Requirement already satisfied: six>=1.5 in /home/studio-lab-user/.conda/envs/default/lib/python3.9/site-packages (from python-dateutil>=2.7->matplotlib) (1.16.0)\n",
      "Note: you may need to restart the kernel to use updated packages.\n"
     ]
    }
   ],
   "source": [
    "pip install matplotlib"
   ]
  },
  {
   "cell_type": "code",
   "execution_count": 18,
   "id": "7d98d0d6",
   "metadata": {
    "executionInfo": {
     "elapsed": 853,
     "status": "ok",
     "timestamp": 1666876778521,
     "user": {
      "displayName": "Harm Alhusen",
      "userId": "15195264760330107310"
     },
     "user_tz": -120
    },
    "id": "7d98d0d6"
   },
   "outputs": [],
   "source": [
    "import seaborn as sns\n",
    "import matplotlib.pyplot as plt "
   ]
  },
  {
   "cell_type": "markdown",
   "id": "611fed81",
   "metadata": {
    "id": "611fed81"
   },
   "source": [
    "Bevor wir den Preis visualisieren wollen wir uns die Verteilung der Verfügbarkeit der AirBnB Wohnungen anzeigen lassen."
   ]
  },
  {
   "cell_type": "code",
   "execution_count": 19,
   "id": "b6eba63d",
   "metadata": {
    "colab": {
     "base_uri": "https://localhost:8080/",
     "height": 387
    },
    "executionInfo": {
     "elapsed": 1068,
     "status": "ok",
     "timestamp": 1666876807351,
     "user": {
      "displayName": "Harm Alhusen",
      "userId": "15195264760330107310"
     },
     "user_tz": -120
    },
    "id": "b6eba63d",
    "outputId": "14839d65-5b0f-499d-f0c3-6b03f5ea5610"
   },
   "outputs": [
    {
     "data": {
      "text/plain": [
       "<seaborn.axisgrid.FacetGrid at 0x7f3d41dcd0a0>"
      ]
     },
     "execution_count": 19,
     "metadata": {},
     "output_type": "execute_result"
    },
    {
     "data": {
      "image/png": "[encoded data removed]",
      "text/plain": [
       "<Figure size 500x500 with 1 Axes>"
      ]
     },
     "metadata": {},
     "output_type": "display_data"
    }
   ],
   "source": [
    "sns.displot(data=airbnb, x=\"availability_365\", kde=True)"
   ]
  },
  {
   "cell_type": "markdown",
   "id": "7633b1f9",
   "metadata": {
    "id": "7633b1f9"
   },
   "source": [
    "Bei AirBnB können Gastgeber einstellen, wie viele Tage im Jahr ihre Wohnung zur Miete auf AirBnB verfügbar ist.\n",
    "Die allermeisten AirBnBs sind also relativ selten verfügbar. Als nächstes schauen wir uns die Verteilung der Preise an."
   ]
  },
  {
   "cell_type": "code",
   "execution_count": 20,
   "id": "4a25b6bf",
   "metadata": {
    "colab": {
     "base_uri": "https://localhost:8080/",
     "height": 387
    },
    "executionInfo": {
     "elapsed": 2094,
     "status": "ok",
     "timestamp": 1666876855078,
     "user": {
      "displayName": "Harm Alhusen",
      "userId": "15195264760330107310"
     },
     "user_tz": -120
    },
    "id": "4a25b6bf",
    "outputId": "12e169aa-89ed-42f0-a16b-3bc51c2578ab"
   },
   "outputs": [
    {
     "data": {
      "text/plain": [
       "<seaborn.axisgrid.FacetGrid at 0x7f3d35315400>"
      ]
     },
     "execution_count": 20,
     "metadata": {},
     "output_type": "execute_result"
    },
    {
     "data": {
      "image/png": "[encoded data removed]",
      "text/plain": [
       "<Figure size 500x500 with 1 Axes>"
      ]
     },
     "metadata": {},
     "output_type": "display_data"
    }
   ],
   "source": [
    "sns.displot(data=airbnb, x=\"price\")"
   ]
  },
  {
   "cell_type": "markdown",
   "id": "1b9ae45c",
   "metadata": {
    "id": "1b9ae45c"
   },
   "source": [
    "Die Grafik bestätigt unsere Annahme, dass es viele preiswerte AirBnBs in Berlin gibt und einige extrem teure. Die Grafik zeigt uns, dass die allermeisten Airbnbs unter 1000 oder sogar 500 Euro liegen. Einige wenige liegen jedoch bei bis zu 8000 Euro, was die Grafik extrem verzerrt. Wir definieren daher eine Variable, bei der nur Airbnb-Wohnungen unter 1000 Euro berücksichtigt werden. "
   ]
  },
  {
   "cell_type": "code",
   "execution_count": 21,
   "id": "a153e6f3",
   "metadata": {
    "executionInfo": {
     "elapsed": 254,
     "status": "ok",
     "timestamp": 1666877025634,
     "user": {
      "displayName": "Harm Alhusen",
      "userId": "15195264760330107310"
     },
     "user_tz": -120
    },
    "id": "a153e6f3"
   },
   "outputs": [],
   "source": [
    "airbnb_under_1000 = airbnb[airbnb['price'] < 1000]"
   ]
  },
  {
   "cell_type": "code",
   "execution_count": 22,
   "id": "54e7199c",
   "metadata": {
    "colab": {
     "base_uri": "https://localhost:8080/",
     "height": 387
    },
    "executionInfo": {
     "elapsed": 1070,
     "status": "ok",
     "timestamp": 1666877043970,
     "user": {
      "displayName": "Harm Alhusen",
      "userId": "15195264760330107310"
     },
     "user_tz": -120
    },
    "id": "54e7199c",
    "outputId": "e8a16797-a553-4fc1-92f5-d1d46e534831"
   },
   "outputs": [
    {
     "data": {
      "text/plain": [
       "<seaborn.axisgrid.FacetGrid at 0x7f3d41dcd640>"
      ]
     },
     "execution_count": 22,
     "metadata": {},
     "output_type": "execute_result"
    },
    {
     "data": {
      "image/png": "[encoded data removed]",
      "text/plain": [
       "<Figure size 500x500 with 1 Axes>"
      ]
     },
     "metadata": {},
     "output_type": "display_data"
    }
   ],
   "source": [
    "sns.displot(data=airbnb_under_1000, x=\"price\")"
   ]
  },
  {
   "cell_type": "markdown",
   "id": "0ffc82e0",
   "metadata": {
    "id": "0ffc82e0"
   },
   "source": [
    "Wir schränken den Preis weiter auf Wohnungen unter 400 Euro ein."
   ]
  },
  {
   "cell_type": "code",
   "execution_count": 23,
   "id": "4ec5b843",
   "metadata": {
    "executionInfo": {
     "elapsed": 263,
     "status": "ok",
     "timestamp": 1666877073079,
     "user": {
      "displayName": "Harm Alhusen",
      "userId": "15195264760330107310"
     },
     "user_tz": -120
    },
    "id": "4ec5b843"
   },
   "outputs": [],
   "source": [
    "airbnb_under_400 = airbnb[airbnb['price'] < 400]"
   ]
  },
  {
   "cell_type": "code",
   "execution_count": 24,
   "id": "a9f5ccb4",
   "metadata": {
    "colab": {
     "base_uri": "https://localhost:8080/",
     "height": 387
    },
    "executionInfo": {
     "elapsed": 782,
     "status": "ok",
     "timestamp": 1666877120442,
     "user": {
      "displayName": "Harm Alhusen",
      "userId": "15195264760330107310"
     },
     "user_tz": -120
    },
    "id": "a9f5ccb4",
    "outputId": "66373c24-2e52-44f4-d983-53d3be5ca115"
   },
   "outputs": [
    {
     "data": {
      "text/plain": [
       "<seaborn.axisgrid.FacetGrid at 0x7f3d2eaf9910>"
      ]
     },
     "execution_count": 24,
     "metadata": {},
     "output_type": "execute_result"
    },
    {
     "data": {
      "image/png": "[encoded data removed]",
      "text/plain": [
       "<Figure size 500x500 with 1 Axes>"
      ]
     },
     "metadata": {},
     "output_type": "display_data"
    }
   ],
   "source": [
    "sns.displot(data=airbnb_under_400, x=\"price\", kde=True)"
   ]
  },
  {
   "cell_type": "markdown",
   "id": "40d4a77b",
   "metadata": {
    "id": "40d4a77b"
   },
   "source": [
    "Und nehmen zuletzt eine weitere Einschränkung des Preises auf unter 300 Euro vor."
   ]
  },
  {
   "cell_type": "code",
   "execution_count": 25,
   "id": "00c21510",
   "metadata": {
    "executionInfo": {
     "elapsed": 262,
     "status": "ok",
     "timestamp": 1666877159361,
     "user": {
      "displayName": "Harm Alhusen",
      "userId": "15195264760330107310"
     },
     "user_tz": -120
    },
    "id": "00c21510"
   },
   "outputs": [],
   "source": [
    "airbnb_under_300 = airbnb[airbnb['price'] < 300]"
   ]
  },
  {
   "cell_type": "code",
   "execution_count": 26,
   "id": "281244e6",
   "metadata": {
    "colab": {
     "base_uri": "https://localhost:8080/",
     "height": 387
    },
    "executionInfo": {
     "elapsed": 718,
     "status": "ok",
     "timestamp": 1666877161475,
     "user": {
      "displayName": "Harm Alhusen",
      "userId": "15195264760330107310"
     },
     "user_tz": -120
    },
    "id": "281244e6",
    "outputId": "a9113f7a-60dd-4baf-b282-9a1ed04b0e89"
   },
   "outputs": [
    {
     "data": {
      "text/plain": [
       "<seaborn.axisgrid.FacetGrid at 0x7f3d2ea0a310>"
      ]
     },
     "execution_count": 26,
     "metadata": {},
     "output_type": "execute_result"
    },
    {
     "data": {
      "image/png": "[encoded data removed]",
      "text/plain": [
       "<Figure size 500x500 with 1 Axes>"
      ]
     },
     "metadata": {},
     "output_type": "display_data"
    }
   ],
   "source": [
    "sns.displot(data=airbnb_under_300, x=\"price\", kde=True)"
   ]
  },
  {
   "cell_type": "markdown",
   "id": "364b9a41",
   "metadata": {
    "id": "364b9a41"
   },
   "source": [
    "Als nächstes lassen wir uns mit Hilfe eines KDE-Plots anzeigen, welche Raum-Typen zu welchem Preis verfügbar sind. Dazu setzen wir das Argument hue = \"room_type\". "
   ]
  },
  {
   "cell_type": "code",
   "execution_count": 27,
   "id": "vzxLscEf5lX4",
   "metadata": {
    "colab": {
     "base_uri": "https://localhost:8080/",
     "height": 297
    },
    "executionInfo": {
     "elapsed": 757,
     "status": "ok",
     "timestamp": 1666877246954,
     "user": {
      "displayName": "Harm Alhusen",
      "userId": "15195264760330107310"
     },
     "user_tz": -120
    },
    "id": "vzxLscEf5lX4",
    "outputId": "a3cda10c-1be1-4095-87bb-6a34eb1c1249"
   },
   "outputs": [
    {
     "data": {
      "text/plain": [
       "<Axes: xlabel='price', ylabel='Density'>"
      ]
     },
     "execution_count": 27,
     "metadata": {},
     "output_type": "execute_result"
    },
    {
     "data": {
      "image/png": "[encoded data removed]",
      "text/plain": [
       "<Figure size 640x480 with 1 Axes>"
      ]
     },
     "metadata": {},
     "output_type": "display_data"
    }
   ],
   "source": [
    "sns.kdeplot(data=airbnb_under_300, x=\"price\", hue=\"room_type\")"
   ]
  },
  {
   "cell_type": "markdown",
   "id": "HYBLJT-ZeEEt",
   "metadata": {
    "id": "HYBLJT-ZeEEt"
   },
   "source": [
    "Ein KDE-Plot erlaubt eine Übersicht, bei welchem Preis AirBnB-Apartments am meisten vorhanden sind. Durch Verwendung von multiple=\"stack\" werden die Raumtypen überlagert angezeigt:"
   ]
  },
  {
   "cell_type": "code",
   "execution_count": 28,
   "id": "F_d6inAPeCL3",
   "metadata": {
    "colab": {
     "base_uri": "https://localhost:8080/",
     "height": 297
    },
    "executionInfo": {
     "elapsed": 855,
     "status": "ok",
     "timestamp": 1666877336469,
     "user": {
      "displayName": "Harm Alhusen",
      "userId": "15195264760330107310"
     },
     "user_tz": -120
    },
    "id": "F_d6inAPeCL3",
    "outputId": "5ced4bac-2059-4002-fcd1-283a453097da"
   },
   "outputs": [
    {
     "data": {
      "text/plain": [
       "<Axes: xlabel='price', ylabel='Density'>"
      ]
     },
     "execution_count": 28,
     "metadata": {},
     "output_type": "execute_result"
    },
    {
     "data": {
      "image/png": "[encoded data removed]",
      "text/plain": [
       "<Figure size 640x480 with 1 Axes>"
      ]
     },
     "metadata": {},
     "output_type": "display_data"
    }
   ],
   "source": [
    "sns.kdeplot(data=airbnb_under_300, x=\"price\", hue=\"room_type\", multiple=\"stack\")"
   ]
  },
  {
   "cell_type": "markdown",
   "id": "uQ7BeSvA5zj4",
   "metadata": {
    "id": "uQ7BeSvA5zj4"
   },
   "source": [
    "Als einfacheren Vergleich sehen wir uns Den Durchschnittspreis verschiedener Raumtypen an Diesen kann man sich auch mit einem einfachen Balkendiagram anzeigen lassen:"
   ]
  },
  {
   "cell_type": "code",
   "execution_count": 29,
   "id": "-sKYwMUF5tj3",
   "metadata": {
    "colab": {
     "base_uri": "https://localhost:8080/",
     "height": 297
    },
    "executionInfo": {
     "elapsed": 381,
     "status": "ok",
     "timestamp": 1666877383457,
     "user": {
      "displayName": "Harm Alhusen",
      "userId": "15195264760330107310"
     },
     "user_tz": -120
    },
    "id": "-sKYwMUF5tj3",
    "outputId": "ac0cfddf-ac62-409a-9380-dd80f69b3b06"
   },
   "outputs": [
    {
     "name": "stderr",
     "output_type": "stream",
     "text": [
      "/tmp/ipykernel_533/1276534870.py:1: FutureWarning: \n",
      "\n",
      "The `ci` parameter is deprecated. Use `errorbar=None` for the same effect.\n",
      "\n",
      "  sns.barplot(x=\"price\", y=\"room_type\", data=airbnb_under_300, ci=None)\n"
     ]
    },
    {
     "data": {
      "text/plain": [
       "<Axes: xlabel='price', ylabel='room_type'>"
      ]
     },
     "execution_count": 29,
     "metadata": {},
     "output_type": "execute_result"
    },
    {
     "data": {
      "image/png": "[encoded data removed]",
      "text/plain": [
       "<Figure size 640x480 with 1 Axes>"
      ]
     },
     "metadata": {},
     "output_type": "display_data"
    }
   ],
   "source": [
    "sns.barplot(x=\"price\", y=\"room_type\", data=airbnb_under_300, ci=None)"
   ]
  },
  {
   "cell_type": "markdown",
   "id": "NXNBmGGZ-Pen",
   "metadata": {
    "id": "NXNBmGGZ-Pen"
   },
   "source": [
    "Das vorherige Dichtediagramm zeigt uns, dass sich bei den auf AirBnB in Berlin gelisteten Wohnungen, unter 300 Euro, relativ wenige \"Hotelzimmer/Hotel room\" finden. Bestätigen wir diese Annahme, indem wir die Werte (values) in der entsprechenden Tabelle/Dataframe zählen:"
   ]
  },
  {
   "cell_type": "code",
   "execution_count": 30,
   "id": "5V66Tmow89_A",
   "metadata": {
    "colab": {
     "base_uri": "https://localhost:8080/"
    },
    "executionInfo": {
     "elapsed": 295,
     "status": "ok",
     "timestamp": 1666877406080,
     "user": {
      "displayName": "Harm Alhusen",
      "userId": "15195264760330107310"
     },
     "user_tz": -120
    },
    "id": "5V66Tmow89_A",
    "outputId": "15ff9131-9279-4994-8a38-8442d40371ac"
   },
   "outputs": [
    {
     "data": {
      "text/plain": [
       "room_type\n",
       "Entire home/apt    9413\n",
       "Private room       6326\n",
       "Shared room         185\n",
       "Hotel room           66\n",
       "Name: count, dtype: int64"
      ]
     },
     "execution_count": 30,
     "metadata": {},
     "output_type": "execute_result"
    }
   ],
   "source": [
    "airbnb_under_300.room_type.value_counts(dropna=False)"
   ]
  },
  {
   "cell_type": "markdown",
   "id": "xhDndwhz-gHB",
   "metadata": {
    "id": "xhDndwhz-gHB"
   },
   "source": [
    "Unsere Annahme bestätigt sich. Aufgrund der hohen Anzahl andere Zimmertypen kann man die Anzahl der Hotelzimmer im Dichtediagramm kaum erkennen. Um die Hotelzimmerverteilung besser beurteilen zu können lassen wir uns diese Verteilung gesondert anzeigen:"
   ]
  },
  {
   "cell_type": "code",
   "execution_count": 31,
   "id": "11ed3732",
   "metadata": {
    "colab": {
     "base_uri": "https://localhost:8080/",
     "height": 353
    },
    "executionInfo": {
     "elapsed": 449,
     "status": "ok",
     "timestamp": 1666877441079,
     "user": {
      "displayName": "Harm Alhusen",
      "userId": "15195264760330107310"
     },
     "user_tz": -120
    },
    "id": "11ed3732",
    "outputId": "4684fbd9-ae97-4554-f65d-b5f9d0ff57da"
   },
   "outputs": [
    {
     "name": "stderr",
     "output_type": "stream",
     "text": [
      "/tmp/ipykernel_533/3754218246.py:2: UserWarning: \n",
      "\n",
      "`distplot` is a deprecated function and will be removed in seaborn v0.14.0.\n",
      "\n",
      "Please adapt your code to use either `displot` (a figure-level function with\n",
      "similar flexibility) or `histplot` (an axes-level function for histograms).\n",
      "\n",
      "For a guide to updating your code to use the new functions, please see\n",
      "https://gist.github.com/mwaskom/de44147ed2974457ad6372750bbe5751\n",
      "\n",
      "  sns.distplot(airbnb_300_hotel_subset['price'], kde=True, color='tab:red')\n"
     ]
    },
    {
     "data": {
      "text/plain": [
       "<Axes: xlabel='price', ylabel='Density'>"
      ]
     },
     "execution_count": 31,
     "metadata": {},
     "output_type": "execute_result"
    },
    {
     "data": {
      "image/png": "[encoded data removed]",
      "text/plain": [
       "<Figure size 640x480 with 1 Axes>"
      ]
     },
     "metadata": {},
     "output_type": "display_data"
    }
   ],
   "source": [
    "airbnb_300_hotel_subset = airbnb_under_300[airbnb_under_300['room_type'] == 'Hotel room']\n",
    "sns.distplot(airbnb_300_hotel_subset['price'], kde=True, color='tab:red')"
   ]
  },
  {
   "cell_type": "markdown",
   "id": "ebe4b620",
   "metadata": {
    "id": "ebe4b620"
   },
   "source": [
    "Die gleiche Analyse können wir auch für die Preise in unterschiedlichen Bezirken anwenden. Dazu wählen wir hue=\"neighbourhood_group\" aus."
   ]
  },
  {
   "cell_type": "code",
   "execution_count": 32,
   "id": "76220cda",
   "metadata": {
    "colab": {
     "base_uri": "https://localhost:8080/",
     "height": 297
    },
    "executionInfo": {
     "elapsed": 972,
     "status": "ok",
     "timestamp": 1666877459035,
     "user": {
      "displayName": "Harm Alhusen",
      "userId": "15195264760330107310"
     },
     "user_tz": -120
    },
    "id": "76220cda",
    "outputId": "4f793b1c-18ce-4b53-dded-fd3de945c755"
   },
   "outputs": [
    {
     "data": {
      "text/plain": [
       "<Axes: xlabel='price', ylabel='Density'>"
      ]
     },
     "execution_count": 32,
     "metadata": {},
     "output_type": "execute_result"
    },
    {
     "data": {
      "image/png": "[encoded data removed]",
      "text/plain": [
       "<Figure size 640x480 with 1 Axes>"
      ]
     },
     "metadata": {},
     "output_type": "display_data"
    }
   ],
   "source": [
    "sns.kdeplot(data=airbnb_under_300, x=\"price\", hue=\"neighbourhood_group\", multiple=\"stack\")"
   ]
  },
  {
   "cell_type": "markdown",
   "id": "oTxLuaPCikMi",
   "metadata": {
    "id": "oTxLuaPCikMi"
   },
   "source": [
    "Ein leicht anderes Bild zeigt sich, wenn wir nicht die additierte Verteilung sondern die Verteilung der einzelnen Viertel ansehen:"
   ]
  },
  {
   "cell_type": "code",
   "execution_count": 33,
   "id": "Q8qftoadgfcL",
   "metadata": {
    "colab": {
     "base_uri": "https://localhost:8080/",
     "height": 297
    },
    "executionInfo": {
     "elapsed": 975,
     "status": "ok",
     "timestamp": 1666877527169,
     "user": {
      "displayName": "Harm Alhusen",
      "userId": "15195264760330107310"
     },
     "user_tz": -120
    },
    "id": "Q8qftoadgfcL",
    "outputId": "b6f142a4-860a-4a29-c8fa-f2e4888e3406"
   },
   "outputs": [
    {
     "data": {
      "text/plain": [
       "<Axes: xlabel='price', ylabel='Density'>"
      ]
     },
     "execution_count": 33,
     "metadata": {},
     "output_type": "execute_result"
    },
    {
     "data": {
      "image/png": "[encoded data removed]",
      "text/plain": [
       "<Figure size 640x480 with 1 Axes>"
      ]
     },
     "metadata": {},
     "output_type": "display_data"
    }
   ],
   "source": [
    "sns.kdeplot(data=airbnb_under_300, x=\"price\", hue=\"neighbourhood_group\")"
   ]
  },
  {
   "cell_type": "markdown",
   "id": "JqTn4cc7yvhF",
   "metadata": {
    "id": "JqTn4cc7yvhF"
   },
   "source": [
    "Wir können auch hier wieder ein Balkendiagramm nutzen, um die Preise pro Viertel einfacher darzustellen:"
   ]
  },
  {
   "cell_type": "code",
   "execution_count": 34,
   "id": "xcQw0_TqwPJF",
   "metadata": {
    "colab": {
     "base_uri": "https://localhost:8080/",
     "height": 297
    },
    "executionInfo": {
     "elapsed": 725,
     "status": "ok",
     "timestamp": 1666877544753,
     "user": {
      "displayName": "Harm Alhusen",
      "userId": "15195264760330107310"
     },
     "user_tz": -120
    },
    "id": "xcQw0_TqwPJF",
    "outputId": "22983130-0f29-46e0-8ae4-f5b50b8b0be1"
   },
   "outputs": [
    {
     "name": "stderr",
     "output_type": "stream",
     "text": [
      "/tmp/ipykernel_533/116413546.py:1: FutureWarning: \n",
      "\n",
      "The `ci` parameter is deprecated. Use `errorbar=None` for the same effect.\n",
      "\n",
      "  sns.barplot(x=\"price\", y=\"neighbourhood_group\", data=airbnb_under_300, ci=None)\n"
     ]
    },
    {
     "data": {
      "text/plain": [
       "<Axes: xlabel='price', ylabel='neighbourhood_group'>"
      ]
     },
     "execution_count": 34,
     "metadata": {},
     "output_type": "execute_result"
    },
    {
     "data": {
      "image/png": "[encoded data removed]",
      "text/plain": [
       "<Figure size 640x480 with 1 Axes>"
      ]
     },
     "metadata": {},
     "output_type": "display_data"
    }
   ],
   "source": [
    "sns.barplot(x=\"price\", y=\"neighbourhood_group\", data=airbnb_under_300, ci=None)"
   ]
  },
  {
   "cell_type": "code",
   "execution_count": 35,
   "id": "kJOKjJ4kXCmm",
   "metadata": {
    "colab": {
     "base_uri": "https://localhost:8080/",
     "height": 297
    },
    "executionInfo": {
     "elapsed": 370,
     "status": "ok",
     "timestamp": 1666877576829,
     "user": {
      "displayName": "Harm Alhusen",
      "userId": "15195264760330107310"
     },
     "user_tz": -120
    },
    "id": "kJOKjJ4kXCmm",
    "outputId": "162a8197-7a5b-46db-911b-7aa63e3b3f0c"
   },
   "outputs": [
    {
     "name": "stderr",
     "output_type": "stream",
     "text": [
      "/tmp/ipykernel_533/4276763595.py:1: FutureWarning: \n",
      "\n",
      "The `ci` parameter is deprecated. Use `errorbar=None` for the same effect.\n",
      "\n",
      "  sns.barplot(x=\"price\", y=\"neighbourhood_group\", data=airbnb, ci=None)\n"
     ]
    },
    {
     "data": {
      "text/plain": [
       "<Axes: xlabel='price', ylabel='neighbourhood_group'>"
      ]
     },
     "execution_count": 35,
     "metadata": {},
     "output_type": "execute_result"
    },
    {
     "data": {
      "image/png": "[encoded data removed]",
      "text/plain": [
       "<Figure size 640x480 with 1 Axes>"
      ]
     },
     "metadata": {},
     "output_type": "display_data"
    }
   ],
   "source": [
    "sns.barplot(x=\"price\", y=\"neighbourhood_group\", data=airbnb, ci=None)"
   ]
  },
  {
   "cell_type": "markdown",
   "id": "328ab3f7",
   "metadata": {
    "id": "328ab3f7"
   },
   "source": [
    "Für einen vollständigen, einfach auszuführenden Befehl empfehlen wir Ihnen Pandas Profiling. Pandas Profiling gibt euch einen Überblick über den gesamten Datensatz. Über \"pip install\" muss das Package \"Pandas profiling\" einmalig installiert werden:"
   ]
  },
  {
   "cell_type": "code",
   "execution_count": 36,
   "id": "lCgUs6Jph_r5",
   "metadata": {
    "colab": {
     "base_uri": "https://localhost:8080/"
    },
    "executionInfo": {
     "elapsed": 4532,
     "status": "ok",
     "timestamp": 1636039284005,
     "user": {
      "displayName": "Harm Alhusen",
      "photoUrl": "https://lh3.googleusercontent.com/a/default-user=s64",
      "userId": "15195264760330107310"
     },
     "user_tz": -60
    },
    "id": "lCgUs6Jph_r5",
    "outputId": "3c6cba1f-ccb4-4296-f904-68f0565ca7ef"
   },
   "outputs": [],
   "source": [
    "#pip install https://github.com/pandas-profiling/pandas-profiling/archive/master.zip"
   ]
  },
  {
   "cell_type": "code",
   "execution_count": 37,
   "id": "cfe324a3",
   "metadata": {
    "id": "cfe324a3"
   },
   "outputs": [],
   "source": [
    "#import pandas_profiling"
   ]
  },
  {
   "cell_type": "code",
   "execution_count": 38,
   "id": "a88f5a6c",
   "metadata": {
    "colab": {
     "base_uri": "https://localhost:8080/",
     "height": 917,
     "output_embedded_package_id": "1U1fWz_x09iJeDFrPwPBeRzBYyGahn4FA",
     "referenced_widgets": [
      "b954f03c30454889b591cc1892a6bdc4",
      "d14fcf280b2743c68260709f4073d236",
      "377c036052924f51aa4579a45c109f26",
      "56042ca82ada4ff28964ecb8e9bde25f",
      "43878d3997e24416bec4e4365ad8d4b7",
      "00aab0e2c5254eba8fe327012a37595d",
      "b5b3d7bf897746758397183455f3579c",
      "f5108418a1f04a06ae7eb2a1aaea8000",
      "488fd9a45ce143d3b8b58d6ac98c1907",
      "b3b30ebe81bd4b139dfb8b123d7947d1",
      "37aebcd6cd8c49f7a730ff407d135dd8",
      "bedcbc985fed4eb2b136a45d2fa65812",
      "66f96a68c9b9438a93ad5bf7bc6bb198",
      "ec37abbfda674c35beaa619e23b0117f",
      "aa0adec8416b4558af8f2199ba87316e",
      "e5612d1f5d8b4a878474b3eee6d912c5",
      "f63c619c021c4bf7b578ad41b6be0d0d",
      "5af6426676c442db9c8b7bdc494b0209",
      "325595f27a8f411783485ea842268a43",
      "e6a4934ddad54224a9a17b5dde077fb3",
      "7a4d47db7c18467383677e6d0e7a2195",
      "6292589e4a0844d3a204930c97d2df8d",
      "1d51df5479bc4b1981ef22fd33f57c0f",
      "694ad320db014f82947eedf3b1d724fa",
      "58bf645d963b4fe98a8967685bf83ffb",
      "5abe3f7339ab4e019540c64053bd5c73",
      "98a009f8ac834f2188999638d6809d69",
      "a898fa4304a14789bfb9c50a3e1451b1",
      "a2b0061f86c14f1abf2716aa8f4ffb61",
      "fc7d8f3be5da41169dfbb3c17a8dc6ab",
      "a1025cbb00874f66b945233a8067f959",
      "204216282d4245cbbab62b99507176c1",
      "c4fb67095c8444e598108cc9ab55e1ae"
     ]
    },
    "executionInfo": {
     "elapsed": 46188,
     "status": "ok",
     "timestamp": 1636039607990,
     "user": {
      "displayName": "Harm Alhusen",
      "photoUrl": "https://lh3.googleusercontent.com/a/default-user=s64",
      "userId": "15195264760330107310"
     },
     "user_tz": -60
    },
    "id": "a88f5a6c",
    "outputId": "c222709f-0c4e-4958-8abf-b3835ae4c916"
   },
   "outputs": [],
   "source": [
    "#pandas_profiling.ProfileReport(airbnb)"
   ]
  },
  {
   "cell_type": "code",
   "execution_count": null,
   "id": "-b0XeXEdXmI8",
   "metadata": {
    "id": "-b0XeXEdXmI8"
   },
   "outputs": [],
   "source": []
  }
 ],
 "metadata": {
  "colab": {
   "collapsed_sections": [],
   "provenance": []
  },
  "kernelspec": {
   "display_name": "default:Python",
   "language": "python",
   "name": "conda-env-default-py"
  },
  "language_info": {
   "codemirror_mode": {
    "name": "ipython",
    "version": 3
   },
   "file_extension": ".py",
   "mimetype": "text/x-python",
   "name": "python",
   "nbconvert_exporter": "python",
   "pygments_lexer": "ipython3",
   "version": "3.9.16"
  },
  "widgets": {
   "application/vnd.jupyter.widget-state+json": {
    "00aab0e2c5254eba8fe327012a37595d": {
     "model_module": "@jupyter-widgets/controls",
     "model_module_version": "1.5.0",
     "model_name": "DescriptionStyleModel",
     "state": {
      "_model_module": "@jupyter-widgets/controls",
      "_model_module_version": "1.5.0",
      "_model_name": "DescriptionStyleModel",
      "_view_count": null,
      "_view_module": "@jupyter-widgets/base",
      "_view_module_version": "1.2.0",
      "_view_name": "StyleView",
      "description_width": ""
     }
    },
    "1d51df5479bc4b1981ef22fd33f57c0f": {
     "model_module": "@jupyter-widgets/controls",
     "model_module_version": "1.5.0",
     "model_name": "HBoxModel",
     "state": {
      "_dom_classes": [],
      "_model_module": "@jupyter-widgets/controls",
      "_model_module_version": "1.5.0",
      "_model_name": "HBoxModel",
      "_view_count": null,
      "_view_module": "@jupyter-widgets/controls",
      "_view_module_version": "1.5.0",
      "_view_name": "HBoxView",
      "box_style": "",
      "children": [
       "IPY_MODEL_58bf645d963b4fe98a8967685bf83ffb",
       "IPY_MODEL_5abe3f7339ab4e019540c64053bd5c73",
       "IPY_MODEL_98a009f8ac834f2188999638d6809d69"
      ],
      "layout": "IPY_MODEL_694ad320db014f82947eedf3b1d724fa"
     }
    },
    "204216282d4245cbbab62b99507176c1": {
     "model_module": "@jupyter-widgets/controls",
     "model_module_version": "1.5.0",
     "model_name": "DescriptionStyleModel",
     "state": {
      "_model_module": "@jupyter-widgets/controls",
      "_model_module_version": "1.5.0",
      "_model_name": "DescriptionStyleModel",
      "_view_count": null,
      "_view_module": "@jupyter-widgets/base",
      "_view_module_version": "1.2.0",
      "_view_name": "StyleView",
      "description_width": ""
     }
    },
    "325595f27a8f411783485ea842268a43": {
     "model_module": "@jupyter-widgets/controls",
     "model_module_version": "1.5.0",
     "model_name": "ProgressStyleModel",
     "state": {
      "_model_module": "@jupyter-widgets/controls",
      "_model_module_version": "1.5.0",
      "_model_name": "ProgressStyleModel",
      "_view_count": null,
      "_view_module": "@jupyter-widgets/base",
      "_view_module_version": "1.2.0",
      "_view_name": "StyleView",
      "bar_color": null,
      "description_width": ""
     }
    },
    "377c036052924f51aa4579a45c109f26": {
     "model_module": "@jupyter-widgets/controls",
     "model_module_version": "1.5.0",
     "model_name": "HTMLModel",
     "state": {
      "_dom_classes": [],
      "_model_module": "@jupyter-widgets/controls",
      "_model_module_version": "1.5.0",
      "_model_name": "HTMLModel",
      "_view_count": null,
      "_view_module": "@jupyter-widgets/controls",
      "_view_module_version": "1.5.0",
      "_view_name": "HTMLView",
      "description": "",
      "description_tooltip": null,
      "layout": "IPY_MODEL_b5b3d7bf897746758397183455f3579c",
      "placeholder": "​",
      "style": "IPY_MODEL_00aab0e2c5254eba8fe327012a37595d",
      "value": "Summarize dataset: 100%"
     }
    },
    "37aebcd6cd8c49f7a730ff407d135dd8": {
     "model_module": "@jupyter-widgets/base",
     "model_module_version": "1.2.0",
     "model_name": "LayoutModel",
     "state": {
      "_model_module": "@jupyter-widgets/base",
      "_model_module_version": "1.2.0",
      "_model_name": "LayoutModel",
      "_view_count": null,
      "_view_module": "@jupyter-widgets/base",
      "_view_module_version": "1.2.0",
      "_view_name": "LayoutView",
      "align_content": null,
      "align_items": null,
      "align_self": null,
      "border": null,
      "bottom": null,
      "display": null,
      "flex": null,
      "flex_flow": null,
      "grid_area": null,
      "grid_auto_columns": null,
      "grid_auto_flow": null,
      "grid_auto_rows": null,
      "grid_column": null,
      "grid_gap": null,
      "grid_row": null,
      "grid_template_areas": null,
      "grid_template_columns": null,
      "grid_template_rows": null,
      "height": null,
      "justify_content": null,
      "justify_items": null,
      "left": null,
      "margin": null,
      "max_height": null,
      "max_width": null,
      "min_height": null,
      "min_width": null,
      "object_fit": null,
      "object_position": null,
      "order": null,
      "overflow": null,
      "overflow_x": null,
      "overflow_y": null,
      "padding": null,
      "right": null,
      "top": null,
      "visibility": null,
      "width": null
     }
    },
    "43878d3997e24416bec4e4365ad8d4b7": {
     "model_module": "@jupyter-widgets/controls",
     "model_module_version": "1.5.0",
     "model_name": "HTMLModel",
     "state": {
      "_dom_classes": [],
      "_model_module": "@jupyter-widgets/controls",
      "_model_module_version": "1.5.0",
      "_model_name": "HTMLModel",
      "_view_count": null,
      "_view_module": "@jupyter-widgets/controls",
      "_view_module_version": "1.5.0",
      "_view_name": "HTMLView",
      "description": "",
      "description_tooltip": null,
      "layout": "IPY_MODEL_37aebcd6cd8c49f7a730ff407d135dd8",
      "placeholder": "​",
      "style": "IPY_MODEL_b3b30ebe81bd4b139dfb8b123d7947d1",
      "value": " 154/154 [00:26&lt;00:00,  3.77it/s, Completed]"
     }
    },
    "488fd9a45ce143d3b8b58d6ac98c1907": {
     "model_module": "@jupyter-widgets/base",
     "model_module_version": "1.2.0",
     "model_name": "LayoutModel",
     "state": {
      "_model_module": "@jupyter-widgets/base",
      "_model_module_version": "1.2.0",
      "_model_name": "LayoutModel",
      "_view_count": null,
      "_view_module": "@jupyter-widgets/base",
      "_view_module_version": "1.2.0",
      "_view_name": "LayoutView",
      "align_content": null,
      "align_items": null,
      "align_self": null,
      "border": null,
      "bottom": null,
      "display": null,
      "flex": null,
      "flex_flow": null,
      "grid_area": null,
      "grid_auto_columns": null,
      "grid_auto_flow": null,
      "grid_auto_rows": null,
      "grid_column": null,
      "grid_gap": null,
      "grid_row": null,
      "grid_template_areas": null,
      "grid_template_columns": null,
      "grid_template_rows": null,
      "height": null,
      "justify_content": null,
      "justify_items": null,
      "left": null,
      "margin": null,
      "max_height": null,
      "max_width": null,
      "min_height": null,
      "min_width": null,
      "object_fit": null,
      "object_position": null,
      "order": null,
      "overflow": null,
      "overflow_x": null,
      "overflow_y": null,
      "padding": null,
      "right": null,
      "top": null,
      "visibility": null,
      "width": null
     }
    },
    "56042ca82ada4ff28964ecb8e9bde25f": {
     "model_module": "@jupyter-widgets/controls",
     "model_module_version": "1.5.0",
     "model_name": "FloatProgressModel",
     "state": {
      "_dom_classes": [],
      "_model_module": "@jupyter-widgets/controls",
      "_model_module_version": "1.5.0",
      "_model_name": "FloatProgressModel",
      "_view_count": null,
      "_view_module": "@jupyter-widgets/controls",
      "_view_module_version": "1.5.0",
      "_view_name": "ProgressView",
      "bar_style": "success",
      "description": "",
      "description_tooltip": null,
      "layout": "IPY_MODEL_488fd9a45ce143d3b8b58d6ac98c1907",
      "max": 5,
      "min": 0,
      "orientation": "horizontal",
      "style": "IPY_MODEL_f5108418a1f04a06ae7eb2a1aaea8000",
      "value": 5
     }
    },
    "58bf645d963b4fe98a8967685bf83ffb": {
     "model_module": "@jupyter-widgets/controls",
     "model_module_version": "1.5.0",
     "model_name": "HTMLModel",
     "state": {
      "_dom_classes": [],
      "_model_module": "@jupyter-widgets/controls",
      "_model_module_version": "1.5.0",
      "_model_name": "HTMLModel",
      "_view_count": null,
      "_view_module": "@jupyter-widgets/controls",
      "_view_module_version": "1.5.0",
      "_view_name": "HTMLView",
      "description": "",
      "description_tooltip": null,
      "layout": "IPY_MODEL_a2b0061f86c14f1abf2716aa8f4ffb61",
      "placeholder": "​",
      "style": "IPY_MODEL_a898fa4304a14789bfb9c50a3e1451b1",
      "value": "Render HTML: 100%"
     }
    },
    "5abe3f7339ab4e019540c64053bd5c73": {
     "model_module": "@jupyter-widgets/controls",
     "model_module_version": "1.5.0",
     "model_name": "FloatProgressModel",
     "state": {
      "_dom_classes": [],
      "_model_module": "@jupyter-widgets/controls",
      "_model_module_version": "1.5.0",
      "_model_name": "FloatProgressModel",
      "_view_count": null,
      "_view_module": "@jupyter-widgets/controls",
      "_view_module_version": "1.5.0",
      "_view_name": "ProgressView",
      "bar_style": "success",
      "description": "",
      "description_tooltip": null,
      "layout": "IPY_MODEL_a1025cbb00874f66b945233a8067f959",
      "max": 1,
      "min": 0,
      "orientation": "horizontal",
      "style": "IPY_MODEL_fc7d8f3be5da41169dfbb3c17a8dc6ab",
      "value": 1
     }
    },
    "5af6426676c442db9c8b7bdc494b0209": {
     "model_module": "@jupyter-widgets/base",
     "model_module_version": "1.2.0",
     "model_name": "LayoutModel",
     "state": {
      "_model_module": "@jupyter-widgets/base",
      "_model_module_version": "1.2.0",
      "_model_name": "LayoutModel",
      "_view_count": null,
      "_view_module": "@jupyter-widgets/base",
      "_view_module_version": "1.2.0",
      "_view_name": "LayoutView",
      "align_content": null,
      "align_items": null,
      "align_self": null,
      "border": null,
      "bottom": null,
      "display": null,
      "flex": null,
      "flex_flow": null,
      "grid_area": null,
      "grid_auto_columns": null,
      "grid_auto_flow": null,
      "grid_auto_rows": null,
      "grid_column": null,
      "grid_gap": null,
      "grid_row": null,
      "grid_template_areas": null,
      "grid_template_columns": null,
      "grid_template_rows": null,
      "height": null,
      "justify_content": null,
      "justify_items": null,
      "left": null,
      "margin": null,
      "max_height": null,
      "max_width": null,
      "min_height": null,
      "min_width": null,
      "object_fit": null,
      "object_position": null,
      "order": null,
      "overflow": null,
      "overflow_x": null,
      "overflow_y": null,
      "padding": null,
      "right": null,
      "top": null,
      "visibility": null,
      "width": null
     }
    },
    "6292589e4a0844d3a204930c97d2df8d": {
     "model_module": "@jupyter-widgets/base",
     "model_module_version": "1.2.0",
     "model_name": "LayoutModel",
     "state": {
      "_model_module": "@jupyter-widgets/base",
      "_model_module_version": "1.2.0",
      "_model_name": "LayoutModel",
      "_view_count": null,
      "_view_module": "@jupyter-widgets/base",
      "_view_module_version": "1.2.0",
      "_view_name": "LayoutView",
      "align_content": null,
      "align_items": null,
      "align_self": null,
      "border": null,
      "bottom": null,
      "display": null,
      "flex": null,
      "flex_flow": null,
      "grid_area": null,
      "grid_auto_columns": null,
      "grid_auto_flow": null,
      "grid_auto_rows": null,
      "grid_column": null,
      "grid_gap": null,
      "grid_row": null,
      "grid_template_areas": null,
      "grid_template_columns": null,
      "grid_template_rows": null,
      "height": null,
      "justify_content": null,
      "justify_items": null,
      "left": null,
      "margin": null,
      "max_height": null,
      "max_width": null,
      "min_height": null,
      "min_width": null,
      "object_fit": null,
      "object_position": null,
      "order": null,
      "overflow": null,
      "overflow_x": null,
      "overflow_y": null,
      "padding": null,
      "right": null,
      "top": null,
      "visibility": null,
      "width": null
     }
    },
    "66f96a68c9b9438a93ad5bf7bc6bb198": {
     "model_module": "@jupyter-widgets/base",
     "model_module_version": "1.2.0",
     "model_name": "LayoutModel",
     "state": {
      "_model_module": "@jupyter-widgets/base",
      "_model_module_version": "1.2.0",
      "_model_name": "LayoutModel",
      "_view_count": null,
      "_view_module": "@jupyter-widgets/base",
      "_view_module_version": "1.2.0",
      "_view_name": "LayoutView",
      "align_content": null,
      "align_items": null,
      "align_self": null,
      "border": null,
      "bottom": null,
      "display": null,
      "flex": null,
      "flex_flow": null,
      "grid_area": null,
      "grid_auto_columns": null,
      "grid_auto_flow": null,
      "grid_auto_rows": null,
      "grid_column": null,
      "grid_gap": null,
      "grid_row": null,
      "grid_template_areas": null,
      "grid_template_columns": null,
      "grid_template_rows": null,
      "height": null,
      "justify_content": null,
      "justify_items": null,
      "left": null,
      "margin": null,
      "max_height": null,
      "max_width": null,
      "min_height": null,
      "min_width": null,
      "object_fit": null,
      "object_position": null,
      "order": null,
      "overflow": null,
      "overflow_x": null,
      "overflow_y": null,
      "padding": null,
      "right": null,
      "top": null,
      "visibility": null,
      "width": null
     }
    },
    "694ad320db014f82947eedf3b1d724fa": {
     "model_module": "@jupyter-widgets/base",
     "model_module_version": "1.2.0",
     "model_name": "LayoutModel",
     "state": {
      "_model_module": "@jupyter-widgets/base",
      "_model_module_version": "1.2.0",
      "_model_name": "LayoutModel",
      "_view_count": null,
      "_view_module": "@jupyter-widgets/base",
      "_view_module_version": "1.2.0",
      "_view_name": "LayoutView",
      "align_content": null,
      "align_items": null,
      "align_self": null,
      "border": null,
      "bottom": null,
      "display": null,
      "flex": null,
      "flex_flow": null,
      "grid_area": null,
      "grid_auto_columns": null,
      "grid_auto_flow": null,
      "grid_auto_rows": null,
      "grid_column": null,
      "grid_gap": null,
      "grid_row": null,
      "grid_template_areas": null,
      "grid_template_columns": null,
      "grid_template_rows": null,
      "height": null,
      "justify_content": null,
      "justify_items": null,
      "left": null,
      "margin": null,
      "max_height": null,
      "max_width": null,
      "min_height": null,
      "min_width": null,
      "object_fit": null,
      "object_position": null,
      "order": null,
      "overflow": null,
      "overflow_x": null,
      "overflow_y": null,
      "padding": null,
      "right": null,
      "top": null,
      "visibility": null,
      "width": null
     }
    },
    "7a4d47db7c18467383677e6d0e7a2195": {
     "model_module": "@jupyter-widgets/controls",
     "model_module_version": "1.5.0",
     "model_name": "DescriptionStyleModel",
     "state": {
      "_model_module": "@jupyter-widgets/controls",
      "_model_module_version": "1.5.0",
      "_model_name": "DescriptionStyleModel",
      "_view_count": null,
      "_view_module": "@jupyter-widgets/base",
      "_view_module_version": "1.2.0",
      "_view_name": "StyleView",
      "description_width": ""
     }
    },
    "98a009f8ac834f2188999638d6809d69": {
     "model_module": "@jupyter-widgets/controls",
     "model_module_version": "1.5.0",
     "model_name": "HTMLModel",
     "state": {
      "_dom_classes": [],
      "_model_module": "@jupyter-widgets/controls",
      "_model_module_version": "1.5.0",
      "_model_name": "HTMLModel",
      "_view_count": null,
      "_view_module": "@jupyter-widgets/controls",
      "_view_module_version": "1.5.0",
      "_view_name": "HTMLView",
      "description": "",
      "description_tooltip": null,
      "layout": "IPY_MODEL_c4fb67095c8444e598108cc9ab55e1ae",
      "placeholder": "​",
      "style": "IPY_MODEL_204216282d4245cbbab62b99507176c1",
      "value": " 1/1 [00:05&lt;00:00,  5.04s/it]"
     }
    },
    "a1025cbb00874f66b945233a8067f959": {
     "model_module": "@jupyter-widgets/base",
     "model_module_version": "1.2.0",
     "model_name": "LayoutModel",
     "state": {
      "_model_module": "@jupyter-widgets/base",
      "_model_module_version": "1.2.0",
      "_model_name": "LayoutModel",
      "_view_count": null,
      "_view_module": "@jupyter-widgets/base",
      "_view_module_version": "1.2.0",
      "_view_name": "LayoutView",
      "align_content": null,
      "align_items": null,
      "align_self": null,
      "border": null,
      "bottom": null,
      "display": null,
      "flex": null,
      "flex_flow": null,
      "grid_area": null,
      "grid_auto_columns": null,
      "grid_auto_flow": null,
      "grid_auto_rows": null,
      "grid_column": null,
      "grid_gap": null,
      "grid_row": null,
      "grid_template_areas": null,
      "grid_template_columns": null,
      "grid_template_rows": null,
      "height": null,
      "justify_content": null,
      "justify_items": null,
      "left": null,
      "margin": null,
      "max_height": null,
      "max_width": null,
      "min_height": null,
      "min_width": null,
      "object_fit": null,
      "object_position": null,
      "order": null,
      "overflow": null,
      "overflow_x": null,
      "overflow_y": null,
      "padding": null,
      "right": null,
      "top": null,
      "visibility": null,
      "width": null
     }
    },
    "a2b0061f86c14f1abf2716aa8f4ffb61": {
     "model_module": "@jupyter-widgets/base",
     "model_module_version": "1.2.0",
     "model_name": "LayoutModel",
     "state": {
      "_model_module": "@jupyter-widgets/base",
      "_model_module_version": "1.2.0",
      "_model_name": "LayoutModel",
      "_view_count": null,
      "_view_module": "@jupyter-widgets/base",
      "_view_module_version": "1.2.0",
      "_view_name": "LayoutView",
      "align_content": null,
      "align_items": null,
      "align_self": null,
      "border": null,
      "bottom": null,
      "display": null,
      "flex": null,
      "flex_flow": null,
      "grid_area": null,
      "grid_auto_columns": null,
      "grid_auto_flow": null,
      "grid_auto_rows": null,
      "grid_column": null,
      "grid_gap": null,
      "grid_row": null,
      "grid_template_areas": null,
      "grid_template_columns": null,
      "grid_template_rows": null,
      "height": null,
      "justify_content": null,
      "justify_items": null,
      "left": null,
      "margin": null,
      "max_height": null,
      "max_width": null,
      "min_height": null,
      "min_width": null,
      "object_fit": null,
      "object_position": null,
      "order": null,
      "overflow": null,
      "overflow_x": null,
      "overflow_y": null,
      "padding": null,
      "right": null,
      "top": null,
      "visibility": null,
      "width": null
     }
    },
    "a898fa4304a14789bfb9c50a3e1451b1": {
     "model_module": "@jupyter-widgets/controls",
     "model_module_version": "1.5.0",
     "model_name": "DescriptionStyleModel",
     "state": {
      "_model_module": "@jupyter-widgets/controls",
      "_model_module_version": "1.5.0",
      "_model_name": "DescriptionStyleModel",
      "_view_count": null,
      "_view_module": "@jupyter-widgets/base",
      "_view_module_version": "1.2.0",
      "_view_name": "StyleView",
      "description_width": ""
     }
    },
    "aa0adec8416b4558af8f2199ba87316e": {
     "model_module": "@jupyter-widgets/controls",
     "model_module_version": "1.5.0",
     "model_name": "FloatProgressModel",
     "state": {
      "_dom_classes": [],
      "_model_module": "@jupyter-widgets/controls",
      "_model_module_version": "1.5.0",
      "_model_name": "FloatProgressModel",
      "_view_count": null,
      "_view_module": "@jupyter-widgets/controls",
      "_view_module_version": "1.5.0",
      "_view_name": "ProgressView",
      "bar_style": "success",
      "description": "",
      "description_tooltip": null,
      "layout": "IPY_MODEL_e6a4934ddad54224a9a17b5dde077fb3",
      "max": 1,
      "min": 0,
      "orientation": "horizontal",
      "style": "IPY_MODEL_325595f27a8f411783485ea842268a43",
      "value": 1
     }
    },
    "b3b30ebe81bd4b139dfb8b123d7947d1": {
     "model_module": "@jupyter-widgets/controls",
     "model_module_version": "1.5.0",
     "model_name": "DescriptionStyleModel",
     "state": {
      "_model_module": "@jupyter-widgets/controls",
      "_model_module_version": "1.5.0",
      "_model_name": "DescriptionStyleModel",
      "_view_count": null,
      "_view_module": "@jupyter-widgets/base",
      "_view_module_version": "1.2.0",
      "_view_name": "StyleView",
      "description_width": ""
     }
    },
    "b5b3d7bf897746758397183455f3579c": {
     "model_module": "@jupyter-widgets/base",
     "model_module_version": "1.2.0",
     "model_name": "LayoutModel",
     "state": {
      "_model_module": "@jupyter-widgets/base",
      "_model_module_version": "1.2.0",
      "_model_name": "LayoutModel",
      "_view_count": null,
      "_view_module": "@jupyter-widgets/base",
      "_view_module_version": "1.2.0",
      "_view_name": "LayoutView",
      "align_content": null,
      "align_items": null,
      "align_self": null,
      "border": null,
      "bottom": null,
      "display": null,
      "flex": null,
      "flex_flow": null,
      "grid_area": null,
      "grid_auto_columns": null,
      "grid_auto_flow": null,
      "grid_auto_rows": null,
      "grid_column": null,
      "grid_gap": null,
      "grid_row": null,
      "grid_template_areas": null,
      "grid_template_columns": null,
      "grid_template_rows": null,
      "height": null,
      "justify_content": null,
      "justify_items": null,
      "left": null,
      "margin": null,
      "max_height": null,
      "max_width": null,
      "min_height": null,
      "min_width": null,
      "object_fit": null,
      "object_position": null,
      "order": null,
      "overflow": null,
      "overflow_x": null,
      "overflow_y": null,
      "padding": null,
      "right": null,
      "top": null,
      "visibility": null,
      "width": null
     }
    },
    "b954f03c30454889b591cc1892a6bdc4": {
     "model_module": "@jupyter-widgets/controls",
     "model_module_version": "1.5.0",
     "model_name": "HBoxModel",
     "state": {
      "_dom_classes": [],
      "_model_module": "@jupyter-widgets/controls",
      "_model_module_version": "1.5.0",
      "_model_name": "HBoxModel",
      "_view_count": null,
      "_view_module": "@jupyter-widgets/controls",
      "_view_module_version": "1.5.0",
      "_view_name": "HBoxView",
      "box_style": "",
      "children": [
       "IPY_MODEL_377c036052924f51aa4579a45c109f26",
       "IPY_MODEL_56042ca82ada4ff28964ecb8e9bde25f",
       "IPY_MODEL_43878d3997e24416bec4e4365ad8d4b7"
      ],
      "layout": "IPY_MODEL_d14fcf280b2743c68260709f4073d236"
     }
    },
    "bedcbc985fed4eb2b136a45d2fa65812": {
     "model_module": "@jupyter-widgets/controls",
     "model_module_version": "1.5.0",
     "model_name": "HBoxModel",
     "state": {
      "_dom_classes": [],
      "_model_module": "@jupyter-widgets/controls",
      "_model_module_version": "1.5.0",
      "_model_name": "HBoxModel",
      "_view_count": null,
      "_view_module": "@jupyter-widgets/controls",
      "_view_module_version": "1.5.0",
      "_view_name": "HBoxView",
      "box_style": "",
      "children": [
       "IPY_MODEL_ec37abbfda674c35beaa619e23b0117f",
       "IPY_MODEL_aa0adec8416b4558af8f2199ba87316e",
       "IPY_MODEL_e5612d1f5d8b4a878474b3eee6d912c5"
      ],
      "layout": "IPY_MODEL_66f96a68c9b9438a93ad5bf7bc6bb198"
     }
    },
    "c4fb67095c8444e598108cc9ab55e1ae": {
     "model_module": "@jupyter-widgets/base",
     "model_module_version": "1.2.0",
     "model_name": "LayoutModel",
     "state": {
      "_model_module": "@jupyter-widgets/base",
      "_model_module_version": "1.2.0",
      "_model_name": "LayoutModel",
      "_view_count": null,
      "_view_module": "@jupyter-widgets/base",
      "_view_module_version": "1.2.0",
      "_view_name": "LayoutView",
      "align_content": null,
      "align_items": null,
      "align_self": null,
      "border": null,
      "bottom": null,
      "display": null,
      "flex": null,
      "flex_flow": null,
      "grid_area": null,
      "grid_auto_columns": null,
      "grid_auto_flow": null,
      "grid_auto_rows": null,
      "grid_column": null,
      "grid_gap": null,
      "grid_row": null,
      "grid_template_areas": null,
      "grid_template_columns": null,
      "grid_template_rows": null,
      "height": null,
      "justify_content": null,
      "justify_items": null,
      "left": null,
      "margin": null,
      "max_height": null,
      "max_width": null,
      "min_height": null,
      "min_width": null,
      "object_fit": null,
      "object_position": null,
      "order": null,
      "overflow": null,
      "overflow_x": null,
      "overflow_y": null,
      "padding": null,
      "right": null,
      "top": null,
      "visibility": null,
      "width": null
     }
    },
    "d14fcf280b2743c68260709f4073d236": {
     "model_module": "@jupyter-widgets/base",
     "model_module_version": "1.2.0",
     "model_name": "LayoutModel",
     "state": {
      "_model_module": "@jupyter-widgets/base",
      "_model_module_version": "1.2.0",
      "_model_name": "LayoutModel",
      "_view_count": null,
      "_view_module": "@jupyter-widgets/base",
      "_view_module_version": "1.2.0",
      "_view_name": "LayoutView",
      "align_content": null,
      "align_items": null,
      "align_self": null,
      "border": null,
      "bottom": null,
      "display": null,
      "flex": null,
      "flex_flow": null,
      "grid_area": null,
      "grid_auto_columns": null,
      "grid_auto_flow": null,
      "grid_auto_rows": null,
      "grid_column": null,
      "grid_gap": null,
      "grid_row": null,
      "grid_template_areas": null,
      "grid_template_columns": null,
      "grid_template_rows": null,
      "height": null,
      "justify_content": null,
      "justify_items": null,
      "left": null,
      "margin": null,
      "max_height": null,
      "max_width": null,
      "min_height": null,
      "min_width": null,
      "object_fit": null,
      "object_position": null,
      "order": null,
      "overflow": null,
      "overflow_x": null,
      "overflow_y": null,
      "padding": null,
      "right": null,
      "top": null,
      "visibility": null,
      "width": null
     }
    },
    "e5612d1f5d8b4a878474b3eee6d912c5": {
     "model_module": "@jupyter-widgets/controls",
     "model_module_version": "1.5.0",
     "model_name": "HTMLModel",
     "state": {
      "_dom_classes": [],
      "_model_module": "@jupyter-widgets/controls",
      "_model_module_version": "1.5.0",
      "_model_name": "HTMLModel",
      "_view_count": null,
      "_view_module": "@jupyter-widgets/controls",
      "_view_module_version": "1.5.0",
      "_view_name": "HTMLView",
      "description": "",
      "description_tooltip": null,
      "layout": "IPY_MODEL_6292589e4a0844d3a204930c97d2df8d",
      "placeholder": "​",
      "style": "IPY_MODEL_7a4d47db7c18467383677e6d0e7a2195",
      "value": " 1/1 [00:08&lt;00:00,  8.76s/it]"
     }
    },
    "e6a4934ddad54224a9a17b5dde077fb3": {
     "model_module": "@jupyter-widgets/base",
     "model_module_version": "1.2.0",
     "model_name": "LayoutModel",
     "state": {
      "_model_module": "@jupyter-widgets/base",
      "_model_module_version": "1.2.0",
      "_model_name": "LayoutModel",
      "_view_count": null,
      "_view_module": "@jupyter-widgets/base",
      "_view_module_version": "1.2.0",
      "_view_name": "LayoutView",
      "align_content": null,
      "align_items": null,
      "align_self": null,
      "border": null,
      "bottom": null,
      "display": null,
      "flex": null,
      "flex_flow": null,
      "grid_area": null,
      "grid_auto_columns": null,
      "grid_auto_flow": null,
      "grid_auto_rows": null,
      "grid_column": null,
      "grid_gap": null,
      "grid_row": null,
      "grid_template_areas": null,
      "grid_template_columns": null,
      "grid_template_rows": null,
      "height": null,
      "justify_content": null,
      "justify_items": null,
      "left": null,
      "margin": null,
      "max_height": null,
      "max_width": null,
      "min_height": null,
      "min_width": null,
      "object_fit": null,
      "object_position": null,
      "order": null,
      "overflow": null,
      "overflow_x": null,
      "overflow_y": null,
      "padding": null,
      "right": null,
      "top": null,
      "visibility": null,
      "width": null
     }
    },
    "ec37abbfda674c35beaa619e23b0117f": {
     "model_module": "@jupyter-widgets/controls",
     "model_module_version": "1.5.0",
     "model_name": "HTMLModel",
     "state": {
      "_dom_classes": [],
      "_model_module": "@jupyter-widgets/controls",
      "_model_module_version": "1.5.0",
      "_model_name": "HTMLModel",
      "_view_count": null,
      "_view_module": "@jupyter-widgets/controls",
      "_view_module_version": "1.5.0",
      "_view_name": "HTMLView",
      "description": "",
      "description_tooltip": null,
      "layout": "IPY_MODEL_5af6426676c442db9c8b7bdc494b0209",
      "placeholder": "​",
      "style": "IPY_MODEL_f63c619c021c4bf7b578ad41b6be0d0d",
      "value": "Generate report structure: 100%"
     }
    },
    "f5108418a1f04a06ae7eb2a1aaea8000": {
     "model_module": "@jupyter-widgets/controls",
     "model_module_version": "1.5.0",
     "model_name": "ProgressStyleModel",
     "state": {
      "_model_module": "@jupyter-widgets/controls",
      "_model_module_version": "1.5.0",
      "_model_name": "ProgressStyleModel",
      "_view_count": null,
      "_view_module": "@jupyter-widgets/base",
      "_view_module_version": "1.2.0",
      "_view_name": "StyleView",
      "bar_color": null,
      "description_width": ""
     }
    },
    "f63c619c021c4bf7b578ad41b6be0d0d": {
     "model_module": "@jupyter-widgets/controls",
     "model_module_version": "1.5.0",
     "model_name": "DescriptionStyleModel",
     "state": {
      "_model_module": "@jupyter-widgets/controls",
      "_model_module_version": "1.5.0",
      "_model_name": "DescriptionStyleModel",
      "_view_count": null,
      "_view_module": "@jupyter-widgets/base",
      "_view_module_version": "1.2.0",
      "_view_name": "StyleView",
      "description_width": ""
     }
    },
    "fc7d8f3be5da41169dfbb3c17a8dc6ab": {
     "model_module": "@jupyter-widgets/controls",
     "model_module_version": "1.5.0",
     "model_name": "ProgressStyleModel",
     "state": {
      "_model_module": "@jupyter-widgets/controls",
      "_model_module_version": "1.5.0",
      "_model_name": "ProgressStyleModel",
      "_view_count": null,
      "_view_module": "@jupyter-widgets/base",
      "_view_module_version": "1.2.0",
      "_view_name": "StyleView",
      "bar_color": null,
      "description_width": ""
     }
    }
   }
  }
 },
 "nbformat": 4,
 "nbformat_minor": 5
}
